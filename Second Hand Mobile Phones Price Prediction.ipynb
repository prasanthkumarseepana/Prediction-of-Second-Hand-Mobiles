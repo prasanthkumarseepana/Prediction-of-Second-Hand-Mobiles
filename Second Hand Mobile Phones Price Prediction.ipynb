{
 "cells": [
  {
   "cell_type": "markdown",
   "id": "4d3f77f1",
   "metadata": {},
   "source": [
    "## 1). Project objective:\n",
    "- Predict the price of a used device (phone/tablet) using Linear Regression.\n",
    "\n",
    "## 2). Data Dictionary:\n",
    "\n",
    "- brand_name: Name of manufacturing brand. Categorical variable which is to be used.\n",
    "- os: OS on which the device runs. Useful as ios will be costlier than Microsoft.\n",
    "- screen_size: Size of the screen in cm. Useful, larger screens warrant more prices.\n",
    "- 4g: Whether 4G is available or not. Useful, more features => more costly. \n",
    "- 5g: Whether 5G is available or not. Same as 4G above.\n",
    "- main_camera_mp: Resolution of the rear camera in megapixels. Useful, higher the better.\n",
    "- selfie_camera_mp: Resolution of the front camera in megapixels. Same as above. \n",
    "- int_memory: Amount of internal memory (ROM) in GB. Useful, more memory => more price.\n",
    "- ram: Amount of RAM in GB Similar as above. \n",
    "- battery: Energy capacity of the device battery in mAh. Useful, larger batteries => costlier phones. \n",
    "- weight: Weight of the device in grams. Bigger phones weigh more and cost more. \n",
    "- release_year: Year when the device model was released. Useful, can be modified to create another variable called 'Age_of_the_model', which is 2021 - release_year. This is expected to be inversely correlated to price. \n",
    "- days_used: Number of days the used/refurbished device has been used. Useful, more => lesser price. \n",
    "- new_price: Price of a new device of the same model in euros. Useful, reasonable estimate. \n",
    "- used_price: Price of the used/refurbished device in euros. This is the target variable **y**."
   ]
  },
  {
   "cell_type": "markdown",
   "id": "b59c9ab5",
   "metadata": {},
   "source": [
    "## 3). Recap of the 14-step approach:\n",
    "\n",
    "1. Import packages - All the import lines should be in the same cell/code-block.\n",
    "2. Verify data granularity and the target variable.\n",
    "3. Check for missing values and data types: data.info, data.isnull().sum() etc.\n",
    "4. Change data types if necessary, and do string manipulations on text columns if needed.\n",
    "5. Impute missing values for categorical and numerical variables: extra categories, median based on groups.\n",
    "6. Verify that there aren't any more missing values.\n",
    "7. Perform EDA: Histograms, bar plots, heatmaps etc. for insights. Target variable vs other variables (correlation, bar plots) is the main piece of EDA for modelling.\n",
    "8. Check for skewness in the numerical variables and do a log transformation if data is skewed (Use histogram to visually check for skewness). Skewness should decrease later. Also check for outliers at this stage and remove/clip a few if possible. \n",
    "9. Create dummy variables for the categorical variables (object, category data types).\n",
    "10. Fit a linear regression model with a constant (Use either Great Learning code or Medium.com article code: https://medium.com/analytics-vidhya/linear-regression-in-python-with-scikit-learn-e1bb8a059cd2). Check for multicollinearity and iterate the model with different variables at this stage.\n",
    "11. Evaluate with the testing metrics (Use Great Learning code functions for this one - function called 'model_performance_regression').\n",
    "12. Model performance metrics should be similar from training to test. If test accuracies are much lower than train accuracies, that implies overfitting. Use RMSE as the main metric. It should be less than 10-15% of the median target variable's value.\n",
    "13. Also check for residuals being normally distributed. This and multi-collinearity are the only assumptions that matter.\n",
    "14. Sit back and enjoy. Your watch has ended."
   ]
  },
  {
   "cell_type": "markdown",
   "id": "5787acdd",
   "metadata": {},
   "source": [
    "## 4). Let's code!\n",
    "\n",
    "### 4.1). Import packages"
   ]
  },
  {
   "cell_type": "code",
   "execution_count": 2,
   "id": "5715fde9",
   "metadata": {},
   "outputs": [
    {
     "data": {
      "application/javascript": [
       "\n",
       "            setTimeout(function() {\n",
       "                var nbb_cell_id = 2;\n",
       "                var nbb_unformatted_code = \"# This will help in making the Python code more structured automatically\\n%load_ext nb_black\\n\\nimport numpy as np\\nimport pandas as pd\\n\\nimport matplotlib.pyplot as plt\\nimport seaborn as sns\\n\\nsns.set()\\n\\n# Splitting the data into train and test\\nfrom sklearn.model_selection import train_test_split\\n\\n# Building a  linear regression_model\\nfrom sklearn.linear_model import LinearRegression\\n\\n# To check the model's performance\\nfrom sklearn.metrics import mean_absolute_error, mean_squared_error, r2_score\\n\\n# to build linear regression_model using statsmodels\\nimport statsmodels.api as sm\\n\\n# to compute VIF\\nfrom statsmodels.stats.outliers_influence import variance_inflation_factor\";\n",
       "                var nbb_formatted_code = \"# This will help in making the Python code more structured automatically\\n%load_ext nb_black\\n\\nimport numpy as np\\nimport pandas as pd\\n\\nimport matplotlib.pyplot as plt\\nimport seaborn as sns\\n\\nsns.set()\\n\\n# Splitting the data into train and test\\nfrom sklearn.model_selection import train_test_split\\n\\n# Building a  linear regression_model\\nfrom sklearn.linear_model import LinearRegression\\n\\n# To check the model's performance\\nfrom sklearn.metrics import mean_absolute_error, mean_squared_error, r2_score\\n\\n# to build linear regression_model using statsmodels\\nimport statsmodels.api as sm\\n\\n# to compute VIF\\nfrom statsmodels.stats.outliers_influence import variance_inflation_factor\";\n",
       "                var nbb_cells = Jupyter.notebook.get_cells();\n",
       "                for (var i = 0; i < nbb_cells.length; ++i) {\n",
       "                    if (nbb_cells[i].input_prompt_number == nbb_cell_id) {\n",
       "                        if (nbb_cells[i].get_text() == nbb_unformatted_code) {\n",
       "                             nbb_cells[i].set_text(nbb_formatted_code);\n",
       "                        }\n",
       "                        break;\n",
       "                    }\n",
       "                }\n",
       "            }, 500);\n",
       "            "
      ],
      "text/plain": [
       "<IPython.core.display.Javascript object>"
      ]
     },
     "metadata": {},
     "output_type": "display_data"
    }
   ],
   "source": [
    "# This will help in making the Python code more structured automatically\n",
    "%load_ext nb_black\n",
    "\n",
    "import numpy as np\n",
    "import pandas as pd\n",
    "\n",
    "import matplotlib.pyplot as plt\n",
    "import seaborn as sns\n",
    "\n",
    "sns.set()\n",
    "\n",
    "# Splitting the data into train and test\n",
    "from sklearn.model_selection import train_test_split\n",
    "\n",
    "# Building a  linear regression_model\n",
    "from sklearn.linear_model import LinearRegression\n",
    "\n",
    "# To check the model's performance\n",
    "from sklearn.metrics import mean_absolute_error, mean_squared_error, r2_score\n",
    "\n",
    "# to build linear regression_model using statsmodels\n",
    "import statsmodels.api as sm\n",
    "\n",
    "# to compute VIF\n",
    "from statsmodels.stats.outliers_influence import variance_inflation_factor"
   ]
  },
  {
   "cell_type": "markdown",
   "id": "d57b76b0",
   "metadata": {},
   "source": [
    "## 4.2). Verify data granularity and target variable\n",
    "\n",
    "data.head() or data.sample() can give us an idea of the granularity, and histogram of data['target_variable'] can give us an idea of the distribution of the target variable."
   ]
  },
  {
   "cell_type": "code",
   "execution_count": 21,
   "id": "6647ccd6",
   "metadata": {},
   "outputs": [
    {
     "data": {
      "text/plain": [
       "(3454, 15)"
      ]
     },
     "execution_count": 21,
     "metadata": {},
     "output_type": "execute_result"
    },
    {
     "data": {
      "application/javascript": [
       "\n",
       "            setTimeout(function() {\n",
       "                var nbb_cell_id = 21;\n",
       "                var nbb_unformatted_code = \"# loading data\\ndata = pd.read_csv(\\\"used_device_data.csv\\\")\\n\\ndata.shape\";\n",
       "                var nbb_formatted_code = \"# loading data\\ndata = pd.read_csv(\\\"used_device_data.csv\\\")\\n\\ndata.shape\";\n",
       "                var nbb_cells = Jupyter.notebook.get_cells();\n",
       "                for (var i = 0; i < nbb_cells.length; ++i) {\n",
       "                    if (nbb_cells[i].input_prompt_number == nbb_cell_id) {\n",
       "                        if (nbb_cells[i].get_text() == nbb_unformatted_code) {\n",
       "                             nbb_cells[i].set_text(nbb_formatted_code);\n",
       "                        }\n",
       "                        break;\n",
       "                    }\n",
       "                }\n",
       "            }, 500);\n",
       "            "
      ],
      "text/plain": [
       "<IPython.core.display.Javascript object>"
      ]
     },
     "metadata": {},
     "output_type": "display_data"
    }
   ],
   "source": [
    "# loading data\n",
    "data = pd.read_csv(\"used_device_data.csv\")\n",
    "\n",
    "data.shape\n"
   ]
  },
  {
   "cell_type": "code",
   "execution_count": 22,
   "id": "dba0f2d7",
   "metadata": {},
   "outputs": [
    {
     "data": {
      "text/html": [
       "<div>\n",
       "<style scoped>\n",
       "    .dataframe tbody tr th:only-of-type {\n",
       "        vertical-align: middle;\n",
       "    }\n",
       "\n",
       "    .dataframe tbody tr th {\n",
       "        vertical-align: top;\n",
       "    }\n",
       "\n",
       "    .dataframe thead th {\n",
       "        text-align: right;\n",
       "    }\n",
       "</style>\n",
       "<table border=\"1\" class=\"dataframe\">\n",
       "  <thead>\n",
       "    <tr style=\"text-align: right;\">\n",
       "      <th></th>\n",
       "      <th>brand_name</th>\n",
       "      <th>os</th>\n",
       "      <th>screen_size</th>\n",
       "      <th>4g</th>\n",
       "      <th>5g</th>\n",
       "      <th>main_camera_mp</th>\n",
       "      <th>selfie_camera_mp</th>\n",
       "      <th>int_memory</th>\n",
       "      <th>ram</th>\n",
       "      <th>battery</th>\n",
       "      <th>weight</th>\n",
       "      <th>release_year</th>\n",
       "      <th>days_used</th>\n",
       "      <th>new_price</th>\n",
       "      <th>used_price</th>\n",
       "    </tr>\n",
       "  </thead>\n",
       "  <tbody>\n",
       "    <tr>\n",
       "      <th>45</th>\n",
       "      <td>Huawei</td>\n",
       "      <td>Android</td>\n",
       "      <td>16.81</td>\n",
       "      <td>yes</td>\n",
       "      <td>yes</td>\n",
       "      <td>13.0</td>\n",
       "      <td>16.0</td>\n",
       "      <td>128.0</td>\n",
       "      <td>6.0</td>\n",
       "      <td>4200.0</td>\n",
       "      <td>196.0</td>\n",
       "      <td>2019</td>\n",
       "      <td>477</td>\n",
       "      <td>650.19</td>\n",
       "      <td>217.12</td>\n",
       "    </tr>\n",
       "  </tbody>\n",
       "</table>\n",
       "</div>"
      ],
      "text/plain": [
       "   brand_name       os  screen_size   4g   5g  main_camera_mp  \\\n",
       "45     Huawei  Android        16.81  yes  yes            13.0   \n",
       "\n",
       "    selfie_camera_mp  int_memory  ram  battery  weight  release_year  \\\n",
       "45              16.0       128.0  6.0   4200.0   196.0          2019   \n",
       "\n",
       "    days_used  new_price  used_price  \n",
       "45        477     650.19      217.12  "
      ]
     },
     "execution_count": 22,
     "metadata": {},
     "output_type": "execute_result"
    },
    {
     "data": {
      "application/javascript": [
       "\n",
       "            setTimeout(function() {\n",
       "                var nbb_cell_id = 22;\n",
       "                var nbb_unformatted_code = \"data.sample()\";\n",
       "                var nbb_formatted_code = \"data.sample()\";\n",
       "                var nbb_cells = Jupyter.notebook.get_cells();\n",
       "                for (var i = 0; i < nbb_cells.length; ++i) {\n",
       "                    if (nbb_cells[i].input_prompt_number == nbb_cell_id) {\n",
       "                        if (nbb_cells[i].get_text() == nbb_unformatted_code) {\n",
       "                             nbb_cells[i].set_text(nbb_formatted_code);\n",
       "                        }\n",
       "                        break;\n",
       "                    }\n",
       "                }\n",
       "            }, 500);\n",
       "            "
      ],
      "text/plain": [
       "<IPython.core.display.Javascript object>"
      ]
     },
     "metadata": {},
     "output_type": "display_data"
    }
   ],
   "source": [
    "data.sample()"
   ]
  },
  {
   "cell_type": "markdown",
   "id": "17e0e0ca",
   "metadata": {},
   "source": [
    "Each row is thus one individual phone and its price. That is the granularity. Now for checking the distribution of phone prices. "
   ]
  },
  {
   "cell_type": "code",
   "execution_count": 24,
   "id": "a98d5e22",
   "metadata": {},
   "outputs": [
    {
     "data": {
      "text/plain": [
       "<matplotlib.lines.Line2D at 0x1852b7e4e80>"
      ]
     },
     "execution_count": 24,
     "metadata": {},
     "output_type": "execute_result"
    },
    {
     "data": {
      "image/png": "[encoded data removed]",
      "text/plain": [
       "<Figure size 432x288 with 1 Axes>"
      ]
     },
     "metadata": {},
     "output_type": "display_data"
    },
    {
     "data": {
      "application/javascript": [
       "\n",
       "            setTimeout(function() {\n",
       "                var nbb_cell_id = 24;\n",
       "                var nbb_unformatted_code = \"sns.histplot(data, x=\\\"used_price\\\", bins=20)\\nplt.xlabel(\\\"used_price\\\", size=14)\\nplt.ylabel(\\\"Count\\\", size=14)\\nplt.axvline(x=data[\\\"used_price\\\"].median(), color=\\\"green\\\")\";\n",
       "                var nbb_formatted_code = \"sns.histplot(data, x=\\\"used_price\\\", bins=20)\\nplt.xlabel(\\\"used_price\\\", size=14)\\nplt.ylabel(\\\"Count\\\", size=14)\\nplt.axvline(x=data[\\\"used_price\\\"].median(), color=\\\"green\\\")\";\n",
       "                var nbb_cells = Jupyter.notebook.get_cells();\n",
       "                for (var i = 0; i < nbb_cells.length; ++i) {\n",
       "                    if (nbb_cells[i].input_prompt_number == nbb_cell_id) {\n",
       "                        if (nbb_cells[i].get_text() == nbb_unformatted_code) {\n",
       "                             nbb_cells[i].set_text(nbb_formatted_code);\n",
       "                        }\n",
       "                        break;\n",
       "                    }\n",
       "                }\n",
       "            }, 500);\n",
       "            "
      ],
      "text/plain": [
       "<IPython.core.display.Javascript object>"
      ]
     },
     "metadata": {},
     "output_type": "display_data"
    }
   ],
   "source": [
    "sns.histplot(data, x=\"used_price\", bins=20)\n",
    "plt.xlabel(\"used_price\", size=14)\n",
    "plt.ylabel(\"Count\", size=14)\n",
    "plt.axvline(x=data[\"used_price\"].median(), color=\"green\")"
   ]
  },
  {
   "cell_type": "markdown",
   "id": "9f543a8e",
   "metadata": {},
   "source": [
    "### 4.3). EDA-1: Missing values and data types"
   ]
  },
  {
   "cell_type": "code",
   "execution_count": 30,
   "id": "b0be6d76",
   "metadata": {},
   "outputs": [
    {
     "data": {
      "text/plain": [
       "brand_name            0\n",
       "os                    0\n",
       "screen_size           0\n",
       "4g                    0\n",
       "5g                    0\n",
       "main_camera_mp      179\n",
       "selfie_camera_mp      2\n",
       "int_memory            4\n",
       "ram                   4\n",
       "battery               6\n",
       "weight                7\n",
       "release_year          0\n",
       "days_used             0\n",
       "new_price             0\n",
       "used_price            0\n",
       "dtype: int64"
      ]
     },
     "execution_count": 30,
     "metadata": {},
     "output_type": "execute_result"
    },
    {
     "data": {
      "application/javascript": [
       "\n",
       "            setTimeout(function() {\n",
       "                var nbb_cell_id = 30;\n",
       "                var nbb_unformatted_code = \"data.isnull().sum()\";\n",
       "                var nbb_formatted_code = \"data.isnull().sum()\";\n",
       "                var nbb_cells = Jupyter.notebook.get_cells();\n",
       "                for (var i = 0; i < nbb_cells.length; ++i) {\n",
       "                    if (nbb_cells[i].input_prompt_number == nbb_cell_id) {\n",
       "                        if (nbb_cells[i].get_text() == nbb_unformatted_code) {\n",
       "                             nbb_cells[i].set_text(nbb_formatted_code);\n",
       "                        }\n",
       "                        break;\n",
       "                    }\n",
       "                }\n",
       "            }, 500);\n",
       "            "
      ],
      "text/plain": [
       "<IPython.core.display.Javascript object>"
      ]
     },
     "metadata": {},
     "output_type": "display_data"
    }
   ],
   "source": [
    "data.isnull().sum()"
   ]
  },
  {
   "cell_type": "code",
   "execution_count": 34,
   "id": "a545cf96",
   "metadata": {},
   "outputs": [
    {
     "data": {
      "text/plain": [
       "brand_name          0.0\n",
       "os                  0.0\n",
       "screen_size         0.0\n",
       "4g                  0.0\n",
       "5g                  0.0\n",
       "main_camera_mp      5.2\n",
       "selfie_camera_mp    0.1\n",
       "int_memory          0.1\n",
       "ram                 0.1\n",
       "battery             0.2\n",
       "weight              0.2\n",
       "release_year        0.0\n",
       "days_used           0.0\n",
       "new_price           0.0\n",
       "used_price          0.0\n",
       "dtype: float64"
      ]
     },
     "execution_count": 34,
     "metadata": {},
     "output_type": "execute_result"
    },
    {
     "data": {
      "application/javascript": [
       "\n",
       "            setTimeout(function() {\n",
       "                var nbb_cell_id = 34;\n",
       "                var nbb_unformatted_code = \"#Calculating %age of data which has missing values\\nround(data.isnull().sum() * 100 / len(data), 1)\";\n",
       "                var nbb_formatted_code = \"# Calculating %age of data which has missing values\\nround(data.isnull().sum() * 100 / len(data), 1)\";\n",
       "                var nbb_cells = Jupyter.notebook.get_cells();\n",
       "                for (var i = 0; i < nbb_cells.length; ++i) {\n",
       "                    if (nbb_cells[i].input_prompt_number == nbb_cell_id) {\n",
       "                        if (nbb_cells[i].get_text() == nbb_unformatted_code) {\n",
       "                             nbb_cells[i].set_text(nbb_formatted_code);\n",
       "                        }\n",
       "                        break;\n",
       "                    }\n",
       "                }\n",
       "            }, 500);\n",
       "            "
      ],
      "text/plain": [
       "<IPython.core.display.Javascript object>"
      ]
     },
     "metadata": {},
     "output_type": "display_data"
    }
   ],
   "source": [
    "# Calculating %age of data which has missing values\n",
    "round(data.isnull().sum() * 100 / len(data), 1)"
   ]
  },
  {
   "cell_type": "markdown",
   "id": "75133c1f",
   "metadata": {},
   "source": [
    "We see that 5% of the data is missing majorly, and that being a numerical variable, we can easily replace it with a median or a group median. Since 5% is a low number, low-effort is okay and we can replace it with a median directly. Imputation should be preferred to dropping because our original dataset has less number of rows to start with."
   ]
  },
  {
   "cell_type": "code",
   "execution_count": 36,
   "id": "5b93eac2",
   "metadata": {},
   "outputs": [
    {
     "name": "stdout",
     "output_type": "stream",
     "text": [
      "<class 'pandas.core.frame.DataFrame'>\n",
      "RangeIndex: 3454 entries, 0 to 3453\n",
      "Data columns (total 15 columns):\n",
      " #   Column            Non-Null Count  Dtype  \n",
      "---  ------            --------------  -----  \n",
      " 0   brand_name        3454 non-null   object \n",
      " 1   os                3454 non-null   object \n",
      " 2   screen_size       3454 non-null   float64\n",
      " 3   4g                3454 non-null   object \n",
      " 4   5g                3454 non-null   object \n",
      " 5   main_camera_mp    3275 non-null   float64\n",
      " 6   selfie_camera_mp  3452 non-null   float64\n",
      " 7   int_memory        3450 non-null   float64\n",
      " 8   ram               3450 non-null   float64\n",
      " 9   battery           3448 non-null   float64\n",
      " 10  weight            3447 non-null   float64\n",
      " 11  release_year      3454 non-null   int64  \n",
      " 12  days_used         3454 non-null   int64  \n",
      " 13  new_price         3454 non-null   float64\n",
      " 14  used_price        3454 non-null   float64\n",
      "dtypes: float64(9), int64(2), object(4)\n",
      "memory usage: 404.9+ KB\n"
     ]
    },
    {
     "data": {
      "application/javascript": [
       "\n",
       "            setTimeout(function() {\n",
       "                var nbb_cell_id = 36;\n",
       "                var nbb_unformatted_code = \"data.info()\";\n",
       "                var nbb_formatted_code = \"data.info()\";\n",
       "                var nbb_cells = Jupyter.notebook.get_cells();\n",
       "                for (var i = 0; i < nbb_cells.length; ++i) {\n",
       "                    if (nbb_cells[i].input_prompt_number == nbb_cell_id) {\n",
       "                        if (nbb_cells[i].get_text() == nbb_unformatted_code) {\n",
       "                             nbb_cells[i].set_text(nbb_formatted_code);\n",
       "                        }\n",
       "                        break;\n",
       "                    }\n",
       "                }\n",
       "            }, 500);\n",
       "            "
      ],
      "text/plain": [
       "<IPython.core.display.Javascript object>"
      ]
     },
     "metadata": {},
     "output_type": "display_data"
    }
   ],
   "source": [
    "data.info()"
   ]
  },
  {
   "cell_type": "markdown",
   "id": "e89dc6f9",
   "metadata": {},
   "source": [
    "We see only 4 categorical variables: os, 4g, 5g, and brand_name. os and brand_name can be split into dummy variables and 4g, 5g have yes/no which can be converted into 1s and 0s(dummies), as computers prefer 1s and 0s to yes/no."
   ]
  },
  {
   "cell_type": "code",
   "execution_count": 37,
   "id": "2ceeb66f",
   "metadata": {},
   "outputs": [
    {
     "data": {
      "text/plain": [
       "0"
      ]
     },
     "execution_count": 37,
     "metadata": {},
     "output_type": "execute_result"
    },
    {
     "data": {
      "application/javascript": [
       "\n",
       "            setTimeout(function() {\n",
       "                var nbb_cell_id = 37;\n",
       "                var nbb_unformatted_code = \"# Checking for duplicate values\\ndata.duplicated().sum()\";\n",
       "                var nbb_formatted_code = \"# Checking for duplicate values\\ndata.duplicated().sum()\";\n",
       "                var nbb_cells = Jupyter.notebook.get_cells();\n",
       "                for (var i = 0; i < nbb_cells.length; ++i) {\n",
       "                    if (nbb_cells[i].input_prompt_number == nbb_cell_id) {\n",
       "                        if (nbb_cells[i].get_text() == nbb_unformatted_code) {\n",
       "                             nbb_cells[i].set_text(nbb_formatted_code);\n",
       "                        }\n",
       "                        break;\n",
       "                    }\n",
       "                }\n",
       "            }, 500);\n",
       "            "
      ],
      "text/plain": [
       "<IPython.core.display.Javascript object>"
      ]
     },
     "metadata": {},
     "output_type": "display_data"
    }
   ],
   "source": [
    "# Checking for duplicate values\n",
    "data.duplicated().sum()"
   ]
  },
  {
   "cell_type": "markdown",
   "id": "8de2ba98",
   "metadata": {},
   "source": [
    "Since we do the EDA for numerical variables separately in histograms and heatmaps, let's check the categorical variables counts using value.counts()."
   ]
  },
  {
   "cell_type": "code",
   "execution_count": 202,
   "id": "c947c5cd",
   "metadata": {},
   "outputs": [
    {
     "data": {
      "text/plain": [
       "Android    3214\n",
       "Others      137\n",
       "Windows      67\n",
       "iOS          36\n",
       "Name: os, dtype: int64"
      ]
     },
     "execution_count": 202,
     "metadata": {},
     "output_type": "execute_result"
    },
    {
     "data": {
      "application/javascript": [
       "\n",
       "            setTimeout(function() {\n",
       "                var nbb_cell_id = 202;\n",
       "                var nbb_unformatted_code = \"data[\\\"os\\\"].value_counts()\\n# Most phones are android in this data. Seems like refurbished ios data isn't that available.\";\n",
       "                var nbb_formatted_code = \"data[\\\"os\\\"].value_counts()\\n# Most phones are android in this data. Seems like refurbished ios data isn't that available.\";\n",
       "                var nbb_cells = Jupyter.notebook.get_cells();\n",
       "                for (var i = 0; i < nbb_cells.length; ++i) {\n",
       "                    if (nbb_cells[i].input_prompt_number == nbb_cell_id) {\n",
       "                        if (nbb_cells[i].get_text() == nbb_unformatted_code) {\n",
       "                             nbb_cells[i].set_text(nbb_formatted_code);\n",
       "                        }\n",
       "                        break;\n",
       "                    }\n",
       "                }\n",
       "            }, 500);\n",
       "            "
      ],
      "text/plain": [
       "<IPython.core.display.Javascript object>"
      ]
     },
     "metadata": {},
     "output_type": "display_data"
    }
   ],
   "source": [
    "#Checking the types of OS available in phones\n",
    "data[\"os\"].value_counts()\n",
    "# Most phones are android in this data. Seems like refurbished ios data isn't that available."
   ]
  },
  {
   "cell_type": "code",
   "execution_count": 203,
   "id": "940c030a",
   "metadata": {
    "collapsed": true
   },
   "outputs": [
    {
     "data": {
      "text/plain": [
       "yes    2335\n",
       "no     1119\n",
       "Name: 4g, dtype: int64"
      ]
     },
     "execution_count": 203,
     "metadata": {},
     "output_type": "execute_result"
    },
    {
     "data": {
      "application/javascript": [
       "\n",
       "            setTimeout(function() {\n",
       "                var nbb_cell_id = 203;\n",
       "                var nbb_unformatted_code = \"data[\\\"4g\\\"].value_counts()  # Most phones have 4g\";\n",
       "                var nbb_formatted_code = \"data[\\\"4g\\\"].value_counts()  # Most phones have 4g\";\n",
       "                var nbb_cells = Jupyter.notebook.get_cells();\n",
       "                for (var i = 0; i < nbb_cells.length; ++i) {\n",
       "                    if (nbb_cells[i].input_prompt_number == nbb_cell_id) {\n",
       "                        if (nbb_cells[i].get_text() == nbb_unformatted_code) {\n",
       "                             nbb_cells[i].set_text(nbb_formatted_code);\n",
       "                        }\n",
       "                        break;\n",
       "                    }\n",
       "                }\n",
       "            }, 500);\n",
       "            "
      ],
      "text/plain": [
       "<IPython.core.display.Javascript object>"
      ]
     },
     "metadata": {},
     "output_type": "display_data"
    }
   ],
   "source": [
    " # Checking whether phones have 4G\n",
    "data[\"4g\"].value_counts() "
   ]
  },
  {
   "cell_type": "code",
   "execution_count": 204,
   "id": "2f6dabf2",
   "metadata": {
    "collapsed": true
   },
   "outputs": [
    {
     "data": {
      "text/plain": [
       "no     3302\n",
       "yes     152\n",
       "Name: 5g, dtype: int64"
      ]
     },
     "execution_count": 204,
     "metadata": {},
     "output_type": "execute_result"
    },
    {
     "data": {
      "application/javascript": [
       "\n",
       "            setTimeout(function() {\n",
       "                var nbb_cell_id = 204;\n",
       "                var nbb_unformatted_code = \"data[\\\"5g\\\"].value_counts()  # Most refurbished phones dont have 5g\";\n",
       "                var nbb_formatted_code = \"data[\\\"5g\\\"].value_counts()  # Most refurbished phones dont have 5g\";\n",
       "                var nbb_cells = Jupyter.notebook.get_cells();\n",
       "                for (var i = 0; i < nbb_cells.length; ++i) {\n",
       "                    if (nbb_cells[i].input_prompt_number == nbb_cell_id) {\n",
       "                        if (nbb_cells[i].get_text() == nbb_unformatted_code) {\n",
       "                             nbb_cells[i].set_text(nbb_formatted_code);\n",
       "                        }\n",
       "                        break;\n",
       "                    }\n",
       "                }\n",
       "            }, 500);\n",
       "            "
      ],
      "text/plain": [
       "<IPython.core.display.Javascript object>"
      ]
     },
     "metadata": {},
     "output_type": "display_data"
    }
   ],
   "source": [
    "data[\"5g\"].value_counts()  "
   ]
  },
  {
   "cell_type": "code",
   "execution_count": 205,
   "id": "42ac72c1",
   "metadata": {},
   "outputs": [
    {
     "data": {
      "text/plain": [
       "Others        502\n",
       "Samsung       341\n",
       "Huawei        251\n",
       "LG            201\n",
       "Lenovo        171\n",
       "ZTE           140\n",
       "Xiaomi        132\n",
       "Oppo          129\n",
       "Asus          122\n",
       "Alcatel       121\n",
       "Vivo          117\n",
       "Micromax      117\n",
       "Honor         116\n",
       "HTC           110\n",
       "Motorola      106\n",
       "Nokia         106\n",
       "Sony           86\n",
       "Meizu          62\n",
       "Gionee         56\n",
       "Acer           51\n",
       "XOLO           49\n",
       "Panasonic      47\n",
       "Realme         41\n",
       "Apple          39\n",
       "Lava           36\n",
       "Celkon         33\n",
       "Spice          30\n",
       "Karbonn        29\n",
       "OnePlus        22\n",
       "Microsoft      22\n",
       "BlackBerry     22\n",
       "Coolpad        22\n",
       "Google         15\n",
       "Infinix        10\n",
       "Name: brand_name, dtype: int64"
      ]
     },
     "execution_count": 205,
     "metadata": {},
     "output_type": "execute_result"
    },
    {
     "data": {
      "application/javascript": [
       "\n",
       "            setTimeout(function() {\n",
       "                var nbb_cell_id = 205;\n",
       "                var nbb_unformatted_code = \"data[\\\"brand_name\\\"].value_counts()\\n# These are a lot of brands actually, resulting in many dummy variables.\\n# Unless there is a better way to group them, we will prefer to keep them all.\";\n",
       "                var nbb_formatted_code = \"data[\\\"brand_name\\\"].value_counts()\\n# These are a lot of brands actually, resulting in many dummy variables.\\n# Unless there is a better way to group them, we will prefer to keep them all.\";\n",
       "                var nbb_cells = Jupyter.notebook.get_cells();\n",
       "                for (var i = 0; i < nbb_cells.length; ++i) {\n",
       "                    if (nbb_cells[i].input_prompt_number == nbb_cell_id) {\n",
       "                        if (nbb_cells[i].get_text() == nbb_unformatted_code) {\n",
       "                             nbb_cells[i].set_text(nbb_formatted_code);\n",
       "                        }\n",
       "                        break;\n",
       "                    }\n",
       "                }\n",
       "            }, 500);\n",
       "            "
      ],
      "text/plain": [
       "<IPython.core.display.Javascript object>"
      ]
     },
     "metadata": {},
     "output_type": "display_data"
    }
   ],
   "source": [
    "#Counting the number of phones in each brand\n",
    "data[\"brand_name\"].value_counts()\n",
    "# These are a lot of brands actually, resulting in many dummy variables.\n",
    "# Unless there is a better way to group them, we will prefer to keep them all."
   ]
  },
  {
   "cell_type": "markdown",
   "id": "79ee35d8",
   "metadata": {},
   "source": [
    "## 4.4.). Change data types and work on text columns if necessary\n",
    "\n",
    "Not needed as all the data types are as expected.\n",
    "\n",
    "## 4.5). Impute categorical and numerical variables accordingly\n",
    "\n",
    "All categorical variables are 100% populated. FOr the numerical variables, since a maximum of 5% is missing, we can use the median filler technique for imputation. If there were a lot of missing values, we would have imputed using median + some grouping (which gives a good insight), but for now the percentage of missing values is too less to exert ourselves so much."
   ]
  },
  {
   "cell_type": "code",
   "execution_count": 254,
   "id": "3cb11c48",
   "metadata": {},
   "outputs": [
    {
     "data": {
      "application/javascript": [
       "\n",
       "            setTimeout(function() {\n",
       "                var nbb_cell_id = 254;\n",
       "                var nbb_unformatted_code = \"df = data.copy()  # Ensuring protection of the original dataframe\\n\\n# Imputing only the missing value containing numerical variables, with medians\\ncols_impute = [\\n    \\\"main_camera_mp\\\",\\n    \\\"selfie_camera_mp\\\",\\n    \\\"int_memory\\\",\\n    \\\"ram\\\",\\n    \\\"battery\\\",\\n    \\\"weight\\\",\\n]\\n\\nfor col in cols_impute:\\n    df[col] = df[col].transform(lambda x: x.fillna(x.median()))\\n\\n# Transform is the same as writing this: df[col] = df[col].apply(lambda x: x.fillna(x.median())).\\n# It is especially useful if we first need to group by before applying the transformation, which we didn't do, incidentally.\\n\\n# If you want to do it though!\\n# for col in cols_impute:\\n#     df[col] = df.groupby([\\\"brand_name\\\"])[col].transform(lambda x: x.fillna(x.median()))\";\n",
       "                var nbb_formatted_code = \"df = data.copy()  # Ensuring protection of the original dataframe\\n\\n# Imputing only the missing value containing numerical variables, with medians\\ncols_impute = [\\n    \\\"main_camera_mp\\\",\\n    \\\"selfie_camera_mp\\\",\\n    \\\"int_memory\\\",\\n    \\\"ram\\\",\\n    \\\"battery\\\",\\n    \\\"weight\\\",\\n]\\n\\nfor col in cols_impute:\\n    df[col] = df[col].transform(lambda x: x.fillna(x.median()))\\n\\n# Transform is the same as writing this: df[col] = df[col].apply(lambda x: x.fillna(x.median())).\\n# It is especially useful if we first need to group by before applying the transformation, which we didn't do, incidentally.\\n\\n# If you want to do it though!\\n# for col in cols_impute:\\n#     df[col] = df.groupby([\\\"brand_name\\\"])[col].transform(lambda x: x.fillna(x.median()))\";\n",
       "                var nbb_cells = Jupyter.notebook.get_cells();\n",
       "                for (var i = 0; i < nbb_cells.length; ++i) {\n",
       "                    if (nbb_cells[i].input_prompt_number == nbb_cell_id) {\n",
       "                        if (nbb_cells[i].get_text() == nbb_unformatted_code) {\n",
       "                             nbb_cells[i].set_text(nbb_formatted_code);\n",
       "                        }\n",
       "                        break;\n",
       "                    }\n",
       "                }\n",
       "            }, 500);\n",
       "            "
      ],
      "text/plain": [
       "<IPython.core.display.Javascript object>"
      ]
     },
     "metadata": {},
     "output_type": "display_data"
    }
   ],
   "source": [
    "df = data.copy()  # Ensuring protection of the original dataframe\n",
    "\n",
    "# Imputing only the missing value containing numerical variables, with medians\n",
    "cols_impute = [\n",
    "    \"main_camera_mp\",\n",
    "    \"selfie_camera_mp\",\n",
    "    \"int_memory\",\n",
    "    \"ram\",\n",
    "    \"battery\",\n",
    "    \"weight\",\n",
    "]\n",
    "\n",
    "for col in cols_impute:\n",
    "    df[col] = df[col].transform(lambda x: x.fillna(x.median()))\n",
    "\n",
    "# Transform is the same as writing this: df[col] = df[col].apply(lambda x: x.fillna(x.median())).\n",
    "# It is especially useful if we first need to group by before applying the transformation, which we didn't do, incidentally.\n",
    "\n",
    "# If you want to do it though!\n",
    "# for col in cols_impute:\n",
    "#     df[col] = df.groupby([\"brand_name\"])[col].transform(lambda x: x.fillna(x.median()))"
   ]
  },
  {
   "cell_type": "markdown",
   "id": "387903c0",
   "metadata": {},
   "source": [
    "### 4.6.). Check again for missing values and ensure 0 for each column"
   ]
  },
  {
   "cell_type": "code",
   "execution_count": 255,
   "id": "e52d4e40",
   "metadata": {},
   "outputs": [
    {
     "data": {
      "text/plain": [
       "brand_name          0\n",
       "os                  0\n",
       "screen_size         0\n",
       "4g                  0\n",
       "5g                  0\n",
       "main_camera_mp      0\n",
       "selfie_camera_mp    0\n",
       "int_memory          0\n",
       "ram                 0\n",
       "battery             0\n",
       "weight              0\n",
       "release_year        0\n",
       "days_used           0\n",
       "new_price           0\n",
       "used_price          0\n",
       "dtype: int64"
      ]
     },
     "execution_count": 255,
     "metadata": {},
     "output_type": "execute_result"
    },
    {
     "data": {
      "application/javascript": [
       "\n",
       "            setTimeout(function() {\n",
       "                var nbb_cell_id = 255;\n",
       "                var nbb_unformatted_code = \"df.isnull().sum()  # Perfect!\";\n",
       "                var nbb_formatted_code = \"df.isnull().sum()  # Perfect!\";\n",
       "                var nbb_cells = Jupyter.notebook.get_cells();\n",
       "                for (var i = 0; i < nbb_cells.length; ++i) {\n",
       "                    if (nbb_cells[i].input_prompt_number == nbb_cell_id) {\n",
       "                        if (nbb_cells[i].get_text() == nbb_unformatted_code) {\n",
       "                             nbb_cells[i].set_text(nbb_formatted_code);\n",
       "                        }\n",
       "                        break;\n",
       "                    }\n",
       "                }\n",
       "            }, 500);\n",
       "            "
      ],
      "text/plain": [
       "<IPython.core.display.Javascript object>"
      ]
     },
     "metadata": {},
     "output_type": "display_data"
    }
   ],
   "source": [
    "df.isnull().sum()  # Perfect!"
   ]
  },
  {
   "cell_type": "code",
   "execution_count": 256,
   "id": "c79a7b2a",
   "metadata": {},
   "outputs": [
    {
     "data": {
      "text/html": [
       "<div>\n",
       "<style scoped>\n",
       "    .dataframe tbody tr th:only-of-type {\n",
       "        vertical-align: middle;\n",
       "    }\n",
       "\n",
       "    .dataframe tbody tr th {\n",
       "        vertical-align: top;\n",
       "    }\n",
       "\n",
       "    .dataframe thead th {\n",
       "        text-align: right;\n",
       "    }\n",
       "</style>\n",
       "<table border=\"1\" class=\"dataframe\">\n",
       "  <thead>\n",
       "    <tr style=\"text-align: right;\">\n",
       "      <th></th>\n",
       "      <th>brand_name</th>\n",
       "      <th>os</th>\n",
       "      <th>screen_size</th>\n",
       "      <th>4g</th>\n",
       "      <th>5g</th>\n",
       "      <th>main_camera_mp</th>\n",
       "      <th>selfie_camera_mp</th>\n",
       "      <th>int_memory</th>\n",
       "      <th>ram</th>\n",
       "      <th>battery</th>\n",
       "      <th>weight</th>\n",
       "      <th>release_year</th>\n",
       "      <th>days_used</th>\n",
       "      <th>new_price</th>\n",
       "      <th>used_price</th>\n",
       "    </tr>\n",
       "  </thead>\n",
       "  <tbody>\n",
       "    <tr>\n",
       "      <th>0</th>\n",
       "      <td>Honor</td>\n",
       "      <td>Android</td>\n",
       "      <td>14.50</td>\n",
       "      <td>yes</td>\n",
       "      <td>no</td>\n",
       "      <td>13.0</td>\n",
       "      <td>5.0</td>\n",
       "      <td>64.0</td>\n",
       "      <td>3.0</td>\n",
       "      <td>3020.0</td>\n",
       "      <td>146.0</td>\n",
       "      <td>2020</td>\n",
       "      <td>127</td>\n",
       "      <td>111.62</td>\n",
       "      <td>74.26</td>\n",
       "    </tr>\n",
       "    <tr>\n",
       "      <th>1</th>\n",
       "      <td>Honor</td>\n",
       "      <td>Android</td>\n",
       "      <td>17.30</td>\n",
       "      <td>yes</td>\n",
       "      <td>yes</td>\n",
       "      <td>13.0</td>\n",
       "      <td>16.0</td>\n",
       "      <td>128.0</td>\n",
       "      <td>8.0</td>\n",
       "      <td>4300.0</td>\n",
       "      <td>213.0</td>\n",
       "      <td>2020</td>\n",
       "      <td>325</td>\n",
       "      <td>249.39</td>\n",
       "      <td>174.53</td>\n",
       "    </tr>\n",
       "    <tr>\n",
       "      <th>2</th>\n",
       "      <td>Honor</td>\n",
       "      <td>Android</td>\n",
       "      <td>16.69</td>\n",
       "      <td>yes</td>\n",
       "      <td>yes</td>\n",
       "      <td>13.0</td>\n",
       "      <td>8.0</td>\n",
       "      <td>128.0</td>\n",
       "      <td>8.0</td>\n",
       "      <td>4200.0</td>\n",
       "      <td>213.0</td>\n",
       "      <td>2020</td>\n",
       "      <td>162</td>\n",
       "      <td>359.47</td>\n",
       "      <td>165.85</td>\n",
       "    </tr>\n",
       "  </tbody>\n",
       "</table>\n",
       "</div>"
      ],
      "text/plain": [
       "  brand_name       os  screen_size   4g   5g  main_camera_mp  \\\n",
       "0      Honor  Android        14.50  yes   no            13.0   \n",
       "1      Honor  Android        17.30  yes  yes            13.0   \n",
       "2      Honor  Android        16.69  yes  yes            13.0   \n",
       "\n",
       "   selfie_camera_mp  int_memory  ram  battery  weight  release_year  \\\n",
       "0               5.0        64.0  3.0   3020.0   146.0          2020   \n",
       "1              16.0       128.0  8.0   4300.0   213.0          2020   \n",
       "2               8.0       128.0  8.0   4200.0   213.0          2020   \n",
       "\n",
       "   days_used  new_price  used_price  \n",
       "0        127     111.62       74.26  \n",
       "1        325     249.39      174.53  \n",
       "2        162     359.47      165.85  "
      ]
     },
     "execution_count": 256,
     "metadata": {},
     "output_type": "execute_result"
    },
    {
     "data": {
      "application/javascript": [
       "\n",
       "            setTimeout(function() {\n",
       "                var nbb_cell_id = 256;\n",
       "                var nbb_unformatted_code = \"df.head(3)\";\n",
       "                var nbb_formatted_code = \"df.head(3)\";\n",
       "                var nbb_cells = Jupyter.notebook.get_cells();\n",
       "                for (var i = 0; i < nbb_cells.length; ++i) {\n",
       "                    if (nbb_cells[i].input_prompt_number == nbb_cell_id) {\n",
       "                        if (nbb_cells[i].get_text() == nbb_unformatted_code) {\n",
       "                             nbb_cells[i].set_text(nbb_formatted_code);\n",
       "                        }\n",
       "                        break;\n",
       "                    }\n",
       "                }\n",
       "            }, 500);\n",
       "            "
      ],
      "text/plain": [
       "<IPython.core.display.Javascript object>"
      ]
     },
     "metadata": {},
     "output_type": "display_data"
    }
   ],
   "source": [
    "df.head(3)"
   ]
  },
  {
   "cell_type": "markdown",
   "id": "5a9c49ea",
   "metadata": {},
   "source": [
    "### 4.7). EDA-2: Histograms, barplots and heatmaps!\n",
    "\n",
    "Main thing to focus here is the plots between the target variable and other variables, and also the individual histograms of numerical variables to check for skewness. If skewness exists, we can do a log-transform."
   ]
  },
  {
   "cell_type": "code",
   "execution_count": 209,
   "id": "5fd33d02",
   "metadata": {},
   "outputs": [
    {
     "data": {
      "image/png": "[encoded data removed]",
      "text/plain": [
       "<Figure size 1080x3240 with 11 Axes>"
      ]
     },
     "metadata": {},
     "output_type": "display_data"
    },
    {
     "data": {
      "application/javascript": [
       "\n",
       "            setTimeout(function() {\n",
       "                var nbb_cell_id = 209;\n",
       "                var nbb_unformatted_code = \"### Individual histograms of all numerical variables at once\\n\\n## Select all numerical columns\\nnumerical_cols = [\\n    col for col in df.columns if col not in [\\\"os\\\", \\\"4g\\\", \\\"5g\\\", \\\"brand_name\\\"]\\n]\\n\\n## Now plot them\\nplt.figure(figsize=(15, 45))\\n\\nfor i in range(len(numerical_cols)):\\n    plt.subplot(12, 3, i + 1)\\n    plt.hist(df[numerical_cols[i]], bins=50)\\n    plt.tight_layout()\\n    plt.title(numerical_cols[i], fontsize=25)\\n\\nplt.show()\";\n",
       "                var nbb_formatted_code = \"### Individual histograms of all numerical variables at once\\n\\n## Select all numerical columns\\nnumerical_cols = [\\n    col for col in df.columns if col not in [\\\"os\\\", \\\"4g\\\", \\\"5g\\\", \\\"brand_name\\\"]\\n]\\n\\n## Now plot them\\nplt.figure(figsize=(15, 45))\\n\\nfor i in range(len(numerical_cols)):\\n    plt.subplot(12, 3, i + 1)\\n    plt.hist(df[numerical_cols[i]], bins=50)\\n    plt.tight_layout()\\n    plt.title(numerical_cols[i], fontsize=25)\\n\\nplt.show()\";\n",
       "                var nbb_cells = Jupyter.notebook.get_cells();\n",
       "                for (var i = 0; i < nbb_cells.length; ++i) {\n",
       "                    if (nbb_cells[i].input_prompt_number == nbb_cell_id) {\n",
       "                        if (nbb_cells[i].get_text() == nbb_unformatted_code) {\n",
       "                             nbb_cells[i].set_text(nbb_formatted_code);\n",
       "                        }\n",
       "                        break;\n",
       "                    }\n",
       "                }\n",
       "            }, 500);\n",
       "            "
      ],
      "text/plain": [
       "<IPython.core.display.Javascript object>"
      ]
     },
     "metadata": {},
     "output_type": "display_data"
    }
   ],
   "source": [
    "### Individual histograms of all numerical variables at once\n",
    "\n",
    "## Select all numerical columns\n",
    "numerical_cols = [\n",
    "    col for col in df.columns if col not in [\"os\", \"4g\", \"5g\", \"brand_name\"]\n",
    "]\n",
    "\n",
    "## Now plot them\n",
    "plt.figure(figsize=(15, 45))\n",
    "\n",
    "for i in range(len(numerical_cols)):\n",
    "    plt.subplot(12, 3, i + 1)\n",
    "    plt.hist(df[numerical_cols[i]], bins=50)\n",
    "    plt.tight_layout()\n",
    "    plt.title(numerical_cols[i], fontsize=25)\n",
    "\n",
    "plt.show()"
   ]
  },
  {
   "cell_type": "markdown",
   "id": "bff54d62",
   "metadata": {},
   "source": [
    "There is a tiny bit of skewness in int_memory, weight, new_price and used_price. Let's log-transform them."
   ]
  },
  {
   "cell_type": "code",
   "execution_count": 210,
   "id": "1c636edd",
   "metadata": {},
   "outputs": [
    {
     "data": {
      "image/png": "[encoded data removed]",
      "text/plain": [
       "<Figure size 1440x320 with 1 Axes>"
      ]
     },
     "metadata": {},
     "output_type": "display_data"
    },
    {
     "data": {
      "application/javascript": [
       "\n",
       "            setTimeout(function() {\n",
       "                var nbb_cell_id = 210;\n",
       "                var nbb_unformatted_code = \"### Barplots\\n\\nfrom matplotlib.pyplot import figure\\n\\nfigure(figsize=(18, 4), dpi=80)\\nsns.barplot(x=\\\"brand_name\\\", y=\\\"used_price\\\", data=df)\\n\\n# Show the plot\\nplt.show()  # Plot isn't that clear but Apple, OnePlus and Google are the costliest phones.\";\n",
       "                var nbb_formatted_code = \"### Barplots\\n\\nfrom matplotlib.pyplot import figure\\n\\nfigure(figsize=(18, 4), dpi=80)\\nsns.barplot(x=\\\"brand_name\\\", y=\\\"used_price\\\", data=df)\\n\\n# Show the plot\\nplt.show()  # Plot isn't that clear but Apple, OnePlus and Google are the costliest phones.\";\n",
       "                var nbb_cells = Jupyter.notebook.get_cells();\n",
       "                for (var i = 0; i < nbb_cells.length; ++i) {\n",
       "                    if (nbb_cells[i].input_prompt_number == nbb_cell_id) {\n",
       "                        if (nbb_cells[i].get_text() == nbb_unformatted_code) {\n",
       "                             nbb_cells[i].set_text(nbb_formatted_code);\n",
       "                        }\n",
       "                        break;\n",
       "                    }\n",
       "                }\n",
       "            }, 500);\n",
       "            "
      ],
      "text/plain": [
       "<IPython.core.display.Javascript object>"
      ]
     },
     "metadata": {},
     "output_type": "display_data"
    }
   ],
   "source": [
    "### Barplots\n",
    "\n",
    "from matplotlib.pyplot import figure\n",
    "\n",
    "figure(figsize=(18, 4), dpi=80)\n",
    "sns.barplot(x=\"brand_name\", y=\"used_price\", data=df)\n",
    "\n",
    "# Show the plot\n",
    "plt.show()  # Plot isn't that clear but Apple, OnePlus and Google are the costliest phones."
   ]
  },
  {
   "cell_type": "code",
   "execution_count": 211,
   "id": "12ae00b0",
   "metadata": {},
   "outputs": [
    {
     "data": {
      "image/png": "[encoded data removed]",
      "text/plain": [
       "<Figure size 432x288 with 1 Axes>"
      ]
     },
     "metadata": {},
     "output_type": "display_data"
    },
    {
     "data": {
      "application/javascript": [
       "\n",
       "            setTimeout(function() {\n",
       "                var nbb_cell_id = 211;\n",
       "                var nbb_unformatted_code = \"sns.barplot(x=\\\"os\\\", y=\\\"used_price\\\", data=df)\\nplt.show()  # IOS is out and out the costliest operating system out there.\";\n",
       "                var nbb_formatted_code = \"sns.barplot(x=\\\"os\\\", y=\\\"used_price\\\", data=df)\\nplt.show()  # IOS is out and out the costliest operating system out there.\";\n",
       "                var nbb_cells = Jupyter.notebook.get_cells();\n",
       "                for (var i = 0; i < nbb_cells.length; ++i) {\n",
       "                    if (nbb_cells[i].input_prompt_number == nbb_cell_id) {\n",
       "                        if (nbb_cells[i].get_text() == nbb_unformatted_code) {\n",
       "                             nbb_cells[i].set_text(nbb_formatted_code);\n",
       "                        }\n",
       "                        break;\n",
       "                    }\n",
       "                }\n",
       "            }, 500);\n",
       "            "
      ],
      "text/plain": [
       "<IPython.core.display.Javascript object>"
      ]
     },
     "metadata": {},
     "output_type": "display_data"
    }
   ],
   "source": [
    "sns.barplot(x=\"os\", y=\"used_price\", data=df)\n",
    "plt.show()  # IOS is out and out the costliest operating system out there."
   ]
  },
  {
   "cell_type": "markdown",
   "id": "ba5f8a0c",
   "metadata": {},
   "source": [
    "### 4.8). Do log and other transformations"
   ]
  },
  {
   "cell_type": "code",
   "execution_count": 257,
   "id": "fe12aa81",
   "metadata": {},
   "outputs": [
    {
     "data": {
      "text/html": [
       "<div>\n",
       "<style scoped>\n",
       "    .dataframe tbody tr th:only-of-type {\n",
       "        vertical-align: middle;\n",
       "    }\n",
       "\n",
       "    .dataframe tbody tr th {\n",
       "        vertical-align: top;\n",
       "    }\n",
       "\n",
       "    .dataframe thead th {\n",
       "        text-align: right;\n",
       "    }\n",
       "</style>\n",
       "<table border=\"1\" class=\"dataframe\">\n",
       "  <thead>\n",
       "    <tr style=\"text-align: right;\">\n",
       "      <th></th>\n",
       "      <th>brand_name</th>\n",
       "      <th>os</th>\n",
       "      <th>screen_size</th>\n",
       "      <th>4g</th>\n",
       "      <th>5g</th>\n",
       "      <th>main_camera_mp</th>\n",
       "      <th>selfie_camera_mp</th>\n",
       "      <th>ram</th>\n",
       "      <th>battery</th>\n",
       "      <th>release_year</th>\n",
       "      <th>days_used</th>\n",
       "      <th>new_price_log</th>\n",
       "      <th>new_int_memory</th>\n",
       "      <th>new_weight</th>\n",
       "      <th>new_used_price</th>\n",
       "    </tr>\n",
       "  </thead>\n",
       "  <tbody>\n",
       "    <tr>\n",
       "      <th>1207</th>\n",
       "      <td>HTC</td>\n",
       "      <td>Android</td>\n",
       "      <td>12.70</td>\n",
       "      <td>no</td>\n",
       "      <td>no</td>\n",
       "      <td>8.0</td>\n",
       "      <td>5.0</td>\n",
       "      <td>4.0</td>\n",
       "      <td>2100.0</td>\n",
       "      <td>2014</td>\n",
       "      <td>1044</td>\n",
       "      <td>5.247287</td>\n",
       "      <td>3.465736</td>\n",
       "      <td>5.075174</td>\n",
       "      <td>4.258446</td>\n",
       "    </tr>\n",
       "    <tr>\n",
       "      <th>1423</th>\n",
       "      <td>Karbonn</td>\n",
       "      <td>Android</td>\n",
       "      <td>12.70</td>\n",
       "      <td>no</td>\n",
       "      <td>no</td>\n",
       "      <td>8.0</td>\n",
       "      <td>0.3</td>\n",
       "      <td>4.0</td>\n",
       "      <td>1800.0</td>\n",
       "      <td>2013</td>\n",
       "      <td>840</td>\n",
       "      <td>4.789157</td>\n",
       "      <td>2.772589</td>\n",
       "      <td>4.649187</td>\n",
       "      <td>3.583797</td>\n",
       "    </tr>\n",
       "    <tr>\n",
       "      <th>3418</th>\n",
       "      <td>Samsung</td>\n",
       "      <td>Android</td>\n",
       "      <td>15.34</td>\n",
       "      <td>yes</td>\n",
       "      <td>no</td>\n",
       "      <td>8.0</td>\n",
       "      <td>8.0</td>\n",
       "      <td>2.0</td>\n",
       "      <td>4000.0</td>\n",
       "      <td>2020</td>\n",
       "      <td>352</td>\n",
       "      <td>4.880527</td>\n",
       "      <td>3.465736</td>\n",
       "      <td>5.176150</td>\n",
       "      <td>4.186468</td>\n",
       "    </tr>\n",
       "    <tr>\n",
       "      <th>1422</th>\n",
       "      <td>Karbonn</td>\n",
       "      <td>Android</td>\n",
       "      <td>10.16</td>\n",
       "      <td>no</td>\n",
       "      <td>no</td>\n",
       "      <td>5.0</td>\n",
       "      <td>0.3</td>\n",
       "      <td>4.0</td>\n",
       "      <td>1625.0</td>\n",
       "      <td>2013</td>\n",
       "      <td>708</td>\n",
       "      <td>4.113657</td>\n",
       "      <td>2.772589</td>\n",
       "      <td>4.740575</td>\n",
       "      <td>3.231989</td>\n",
       "    </tr>\n",
       "    <tr>\n",
       "      <th>1147</th>\n",
       "      <td>Others</td>\n",
       "      <td>Android</td>\n",
       "      <td>19.94</td>\n",
       "      <td>no</td>\n",
       "      <td>no</td>\n",
       "      <td>2.0</td>\n",
       "      <td>0.3</td>\n",
       "      <td>4.0</td>\n",
       "      <td>3800.0</td>\n",
       "      <td>2014</td>\n",
       "      <td>664</td>\n",
       "      <td>4.792230</td>\n",
       "      <td>2.772589</td>\n",
       "      <td>5.746203</td>\n",
       "      <td>4.297285</td>\n",
       "    </tr>\n",
       "  </tbody>\n",
       "</table>\n",
       "</div>"
      ],
      "text/plain": [
       "     brand_name       os  screen_size   4g  5g  main_camera_mp  \\\n",
       "1207        HTC  Android        12.70   no  no             8.0   \n",
       "1423    Karbonn  Android        12.70   no  no             8.0   \n",
       "3418    Samsung  Android        15.34  yes  no             8.0   \n",
       "1422    Karbonn  Android        10.16   no  no             5.0   \n",
       "1147     Others  Android        19.94   no  no             2.0   \n",
       "\n",
       "      selfie_camera_mp  ram  battery  release_year  days_used  new_price_log  \\\n",
       "1207               5.0  4.0   2100.0          2014       1044       5.247287   \n",
       "1423               0.3  4.0   1800.0          2013        840       4.789157   \n",
       "3418               8.0  2.0   4000.0          2020        352       4.880527   \n",
       "1422               0.3  4.0   1625.0          2013        708       4.113657   \n",
       "1147               0.3  4.0   3800.0          2014        664       4.792230   \n",
       "\n",
       "      new_int_memory  new_weight  new_used_price  \n",
       "1207        3.465736    5.075174        4.258446  \n",
       "1423        2.772589    4.649187        3.583797  \n",
       "3418        3.465736    5.176150        4.186468  \n",
       "1422        2.772589    4.740575        3.231989  \n",
       "1147        2.772589    5.746203        4.297285  "
      ]
     },
     "execution_count": 257,
     "metadata": {},
     "output_type": "execute_result"
    },
    {
     "data": {
      "application/javascript": [
       "\n",
       "            setTimeout(function() {\n",
       "                var nbb_cell_id = 257;\n",
       "                var nbb_unformatted_code = \"df[\\\"new_price_log\\\"] = np.log(df[\\\"new_price\\\"])\\ndf[\\\"new_int_memory\\\"] = np.log(df[\\\"int_memory\\\"])\\ndf[\\\"new_weight\\\"] = np.log(df[\\\"weight\\\"])\\ndf[\\\"new_used_price\\\"] = np.log(\\n    df[\\\"used_price\\\"]\\n)  # Remember to evaluate on actual values after building the model,\\n# not on these log-values\\n\\n# Drop the old columns\\ndf.drop(columns=[\\\"new_price\\\"], inplace=True)\\ndf.drop(columns=[\\\"int_memory\\\"], inplace=True)\\ndf.drop(columns=[\\\"weight\\\"], inplace=True)\\ndf.drop(columns=[\\\"used_price\\\"], inplace=True)\\ndf.sample(5)\\n\\n# All these transformations are useful only if the residuals are not normally distributed,\\n# which is the main assumption of linear regression.\";\n",
       "                var nbb_formatted_code = \"df[\\\"new_price_log\\\"] = np.log(df[\\\"new_price\\\"])\\ndf[\\\"new_int_memory\\\"] = np.log(df[\\\"int_memory\\\"])\\ndf[\\\"new_weight\\\"] = np.log(df[\\\"weight\\\"])\\ndf[\\\"new_used_price\\\"] = np.log(\\n    df[\\\"used_price\\\"]\\n)  # Remember to evaluate on actual values after building the model,\\n# not on these log-values\\n\\n# Drop the old columns\\ndf.drop(columns=[\\\"new_price\\\"], inplace=True)\\ndf.drop(columns=[\\\"int_memory\\\"], inplace=True)\\ndf.drop(columns=[\\\"weight\\\"], inplace=True)\\ndf.drop(columns=[\\\"used_price\\\"], inplace=True)\\ndf.sample(5)\\n\\n# All these transformations are useful only if the residuals are not normally distributed,\\n# which is the main assumption of linear regression.\";\n",
       "                var nbb_cells = Jupyter.notebook.get_cells();\n",
       "                for (var i = 0; i < nbb_cells.length; ++i) {\n",
       "                    if (nbb_cells[i].input_prompt_number == nbb_cell_id) {\n",
       "                        if (nbb_cells[i].get_text() == nbb_unformatted_code) {\n",
       "                             nbb_cells[i].set_text(nbb_formatted_code);\n",
       "                        }\n",
       "                        break;\n",
       "                    }\n",
       "                }\n",
       "            }, 500);\n",
       "            "
      ],
      "text/plain": [
       "<IPython.core.display.Javascript object>"
      ]
     },
     "metadata": {},
     "output_type": "display_data"
    }
   ],
   "source": [
    "df[\"new_price_log\"] = np.log(df[\"new_price\"])\n",
    "df[\"new_int_memory\"] = np.log(df[\"int_memory\"])\n",
    "df[\"new_weight\"] = np.log(df[\"weight\"])\n",
    "df[\"new_used_price\"] = np.log(\n",
    "    df[\"used_price\"]\n",
    ")  # Remember to evaluate on actual values after building the model,\n",
    "# not on these log-values\n",
    "\n",
    "# Drop the old columns\n",
    "df.drop(columns=[\"new_price\"], inplace=True)\n",
    "df.drop(columns=[\"int_memory\"], inplace=True)\n",
    "df.drop(columns=[\"weight\"], inplace=True)\n",
    "df.drop(columns=[\"used_price\"], inplace=True)\n",
    "df.sample(5)\n",
    "\n",
    "# All these transformations are useful only if the residuals are not normally distributed,\n",
    "# which is the main assumption of linear regression."
   ]
  },
  {
   "cell_type": "markdown",
   "id": "beca4314",
   "metadata": {},
   "source": [
    "We next add age as a column and drop release_year. Computer understands age as a variable better than a time variable called release_year. We are manipulation information without losing the value, in essence."
   ]
  },
  {
   "cell_type": "code",
   "execution_count": 258,
   "id": "b6f9baa0",
   "metadata": {},
   "outputs": [
    {
     "data": {
      "application/javascript": [
       "\n",
       "            setTimeout(function() {\n",
       "                var nbb_cell_id = 258;\n",
       "                var nbb_unformatted_code = \"df[\\\"age_of_model\\\"] = 2021 - df[\\\"release_year\\\"]\";\n",
       "                var nbb_formatted_code = \"df[\\\"age_of_model\\\"] = 2021 - df[\\\"release_year\\\"]\";\n",
       "                var nbb_cells = Jupyter.notebook.get_cells();\n",
       "                for (var i = 0; i < nbb_cells.length; ++i) {\n",
       "                    if (nbb_cells[i].input_prompt_number == nbb_cell_id) {\n",
       "                        if (nbb_cells[i].get_text() == nbb_unformatted_code) {\n",
       "                             nbb_cells[i].set_text(nbb_formatted_code);\n",
       "                        }\n",
       "                        break;\n",
       "                    }\n",
       "                }\n",
       "            }, 500);\n",
       "            "
      ],
      "text/plain": [
       "<IPython.core.display.Javascript object>"
      ]
     },
     "metadata": {},
     "output_type": "display_data"
    }
   ],
   "source": [
    "df[\"age_of_model\"] = 2021 - df[\"release_year\"]"
   ]
  },
  {
   "cell_type": "code",
   "execution_count": 214,
   "id": "33c12ba9",
   "metadata": {},
   "outputs": [
    {
     "data": {
      "text/plain": [
       "<AxesSubplot:xlabel='age_of_model', ylabel='Count'>"
      ]
     },
     "execution_count": 214,
     "metadata": {},
     "output_type": "execute_result"
    },
    {
     "data": {
      "image/png": "[encoded data removed]",
      "text/plain": [
       "<Figure size 432x288 with 1 Axes>"
      ]
     },
     "metadata": {},
     "output_type": "display_data"
    },
    {
     "data": {
      "application/javascript": [
       "\n",
       "            setTimeout(function() {\n",
       "                var nbb_cell_id = 214;\n",
       "                var nbb_unformatted_code = \"sns.histplot(df[\\\"age_of_model\\\"])\";\n",
       "                var nbb_formatted_code = \"sns.histplot(df[\\\"age_of_model\\\"])\";\n",
       "                var nbb_cells = Jupyter.notebook.get_cells();\n",
       "                for (var i = 0; i < nbb_cells.length; ++i) {\n",
       "                    if (nbb_cells[i].input_prompt_number == nbb_cell_id) {\n",
       "                        if (nbb_cells[i].get_text() == nbb_unformatted_code) {\n",
       "                             nbb_cells[i].set_text(nbb_formatted_code);\n",
       "                        }\n",
       "                        break;\n",
       "                    }\n",
       "                }\n",
       "            }, 500);\n",
       "            "
      ],
      "text/plain": [
       "<IPython.core.display.Javascript object>"
      ]
     },
     "metadata": {},
     "output_type": "display_data"
    }
   ],
   "source": [
    "sns.histplot(df[\"age_of_model\"])"
   ]
  },
  {
   "cell_type": "code",
   "execution_count": 259,
   "id": "1242b330",
   "metadata": {},
   "outputs": [
    {
     "data": {
      "application/javascript": [
       "\n",
       "            setTimeout(function() {\n",
       "                var nbb_cell_id = 259;\n",
       "                var nbb_unformatted_code = \"df.drop(columns=[\\\"release_year\\\"], inplace=True)\";\n",
       "                var nbb_formatted_code = \"df.drop(columns=[\\\"release_year\\\"], inplace=True)\";\n",
       "                var nbb_cells = Jupyter.notebook.get_cells();\n",
       "                for (var i = 0; i < nbb_cells.length; ++i) {\n",
       "                    if (nbb_cells[i].input_prompt_number == nbb_cell_id) {\n",
       "                        if (nbb_cells[i].get_text() == nbb_unformatted_code) {\n",
       "                             nbb_cells[i].set_text(nbb_formatted_code);\n",
       "                        }\n",
       "                        break;\n",
       "                    }\n",
       "                }\n",
       "            }, 500);\n",
       "            "
      ],
      "text/plain": [
       "<IPython.core.display.Javascript object>"
      ]
     },
     "metadata": {},
     "output_type": "display_data"
    }
   ],
   "source": [
    "df.drop(columns=[\"release_year\"], inplace=True)"
   ]
  },
  {
   "cell_type": "code",
   "execution_count": 260,
   "id": "5d68e37b",
   "metadata": {},
   "outputs": [
    {
     "data": {
      "image/png": "[encoded data removed]",
      "text/plain": [
       "<Figure size 1080x3240 with 11 Axes>"
      ]
     },
     "metadata": {},
     "output_type": "display_data"
    },
    {
     "data": {
      "application/javascript": [
       "\n",
       "            setTimeout(function() {\n",
       "                var nbb_cell_id = 260;\n",
       "                var nbb_unformatted_code = \"################ Outliers ##############\\n\\n### Individual boxplots to identify presence of outliers\\n\\n## Select all numerical columns\\nnumerical_cols = [\\n    col for col in df.columns if col not in [\\\"os\\\", \\\"4g\\\", \\\"5g\\\", \\\"brand_name\\\"]\\n]\\n\\n## Now plot them\\nplt.figure(figsize=(15, 45))\\n\\nfor i in range(len(numerical_cols)):\\n    plt.subplot(12, 3, i + 1)\\n    plt.boxplot(df[numerical_cols[i]])\\n    plt.tight_layout()\\n    plt.title(numerical_cols[i], fontsize=25)\\n\\nplt.show()\";\n",
       "                var nbb_formatted_code = \"################ Outliers ##############\\n\\n### Individual boxplots to identify presence of outliers\\n\\n## Select all numerical columns\\nnumerical_cols = [\\n    col for col in df.columns if col not in [\\\"os\\\", \\\"4g\\\", \\\"5g\\\", \\\"brand_name\\\"]\\n]\\n\\n## Now plot them\\nplt.figure(figsize=(15, 45))\\n\\nfor i in range(len(numerical_cols)):\\n    plt.subplot(12, 3, i + 1)\\n    plt.boxplot(df[numerical_cols[i]])\\n    plt.tight_layout()\\n    plt.title(numerical_cols[i], fontsize=25)\\n\\nplt.show()\";\n",
       "                var nbb_cells = Jupyter.notebook.get_cells();\n",
       "                for (var i = 0; i < nbb_cells.length; ++i) {\n",
       "                    if (nbb_cells[i].input_prompt_number == nbb_cell_id) {\n",
       "                        if (nbb_cells[i].get_text() == nbb_unformatted_code) {\n",
       "                             nbb_cells[i].set_text(nbb_formatted_code);\n",
       "                        }\n",
       "                        break;\n",
       "                    }\n",
       "                }\n",
       "            }, 500);\n",
       "            "
      ],
      "text/plain": [
       "<IPython.core.display.Javascript object>"
      ]
     },
     "metadata": {},
     "output_type": "display_data"
    }
   ],
   "source": [
    "################ Outliers ##############\n",
    "\n",
    "### Individual boxplots to identify presence of outliers\n",
    "\n",
    "## Select all numerical columns\n",
    "numerical_cols = [\n",
    "    col for col in df.columns if col not in [\"os\", \"4g\", \"5g\", \"brand_name\"]\n",
    "]\n",
    "\n",
    "## Now plot them\n",
    "plt.figure(figsize=(15, 45))\n",
    "\n",
    "for i in range(len(numerical_cols)):\n",
    "    plt.subplot(12, 3, i + 1)\n",
    "    plt.boxplot(df[numerical_cols[i]])\n",
    "    plt.tight_layout()\n",
    "    plt.title(numerical_cols[i], fontsize=25)\n",
    "\n",
    "plt.show()"
   ]
  },
  {
   "cell_type": "markdown",
   "id": "c5a3cc83",
   "metadata": {},
   "source": [
    "Now, when it comes to outliers, we should only remove them if they are improbably high. Just because a 2000$ phone is an outlier in a box-plot, we don't need to remove it because the phone could be gold plated. So let's check for the maximum values for each numerical variable and then take a call if the values seem outlandish."
   ]
  },
  {
   "cell_type": "code",
   "execution_count": 217,
   "id": "11d9b5d1",
   "metadata": {},
   "outputs": [
    {
     "name": "stdout",
     "output_type": "stream",
     "text": [
      "Range of column 'screen_size' = (5.08, 30.71)\n",
      "Range of column 'main_camera_mp' = (0.08, 48.0)\n",
      "Range of column 'selfie_camera_mp' = (0.0, 32.0)\n",
      "Range of column 'ram' = (0.02, 12.0)\n",
      "Range of column 'battery' = (500.0, 9720.0)\n",
      "Range of column 'days_used' = (91, 1094)\n",
      "Range of column 'new_price_log' = (2.9014215940827497, 7.847840659422009)\n",
      "Range of column 'new_int_memory' = (-4.605170185988091, 6.931471805599453)\n",
      "Range of column 'new_weight' = (4.23410650459726, 6.75110146893676)\n",
      "Range of column 'new_used_price' = (1.536867219599265, 6.619433001642933)\n",
      "Range of column 'age_of_model' = (1, 8)\n"
     ]
    },
    {
     "data": {
      "application/javascript": [
       "\n",
       "            setTimeout(function() {\n",
       "                var nbb_cell_id = 217;\n",
       "                var nbb_unformatted_code = \"### Print max values for each numerical variable\\n\\n## Select all numerical columns\\nnumerical_cols = [\\n    col for col in df.columns if col not in [\\\"os\\\", \\\"4g\\\", \\\"5g\\\", \\\"brand_name\\\"]\\n]\\n\\nfor col in numerical_cols:\\n    print(f\\\"Range of column '{col}' = ({df[col].min()}, {df[col].max()})\\\")\";\n",
       "                var nbb_formatted_code = \"### Print max values for each numerical variable\\n\\n## Select all numerical columns\\nnumerical_cols = [\\n    col for col in df.columns if col not in [\\\"os\\\", \\\"4g\\\", \\\"5g\\\", \\\"brand_name\\\"]\\n]\\n\\nfor col in numerical_cols:\\n    print(f\\\"Range of column '{col}' = ({df[col].min()}, {df[col].max()})\\\")\";\n",
       "                var nbb_cells = Jupyter.notebook.get_cells();\n",
       "                for (var i = 0; i < nbb_cells.length; ++i) {\n",
       "                    if (nbb_cells[i].input_prompt_number == nbb_cell_id) {\n",
       "                        if (nbb_cells[i].get_text() == nbb_unformatted_code) {\n",
       "                             nbb_cells[i].set_text(nbb_formatted_code);\n",
       "                        }\n",
       "                        break;\n",
       "                    }\n",
       "                }\n",
       "            }, 500);\n",
       "            "
      ],
      "text/plain": [
       "<IPython.core.display.Javascript object>"
      ]
     },
     "metadata": {},
     "output_type": "display_data"
    }
   ],
   "source": [
    "### Print max values for each numerical variable\n",
    "\n",
    "## Select all numerical columns\n",
    "numerical_cols = [\n",
    "    col for col in df.columns if col not in [\"os\", \"4g\", \"5g\", \"brand_name\"]\n",
    "]\n",
    "\n",
    "for col in numerical_cols:\n",
    "    print(f\"Range of column '{col}' = ({df[col].min()}, {df[col].max()})\")"
   ]
  },
  {
   "cell_type": "markdown",
   "id": "c4bdd8ee",
   "metadata": {},
   "source": [
    "We can clearly see that screen size is a little extra, 30cm is close to 1 feet, no phone is one feet. Let's cap those values to 7 inches."
   ]
  },
  {
   "cell_type": "code",
   "execution_count": 261,
   "id": "cf822e35",
   "metadata": {},
   "outputs": [
    {
     "name": "stdout",
     "output_type": "stream",
     "text": [
      "Range of column 'screen_size' = (5.08, 18.0)\n",
      "Range of column 'main_camera_mp' = (0.08, 48.0)\n",
      "Range of column 'selfie_camera_mp' = (0.0, 32.0)\n",
      "Range of column 'ram' = (0.02, 12.0)\n",
      "Range of column 'battery' = (500.0, 9720.0)\n",
      "Range of column 'days_used' = (91, 1094)\n",
      "Range of column 'new_price_log' = (2.9014215940827497, 7.847840659422009)\n",
      "Range of column 'new_int_memory' = (-4.605170185988091, 6.931471805599453)\n",
      "Range of column 'new_weight' = (4.23410650459726, 6.75110146893676)\n",
      "Range of column 'new_used_price' = (1.536867219599265, 6.619433001642933)\n",
      "Range of column 'age_of_model' = (1, 8)\n"
     ]
    },
    {
     "data": {
      "application/javascript": [
       "\n",
       "            setTimeout(function() {\n",
       "                var nbb_cell_id = 261;\n",
       "                var nbb_unformatted_code = \"# Clipping\\ndf.loc[df[\\\"screen_size\\\"] > 18, \\\"screen_size\\\"] = 18\\n\\nfor col in numerical_cols:\\n    print(f\\\"Range of column '{col}' = ({df[col].min()}, {df[col].max()})\\\")\";\n",
       "                var nbb_formatted_code = \"# Clipping\\ndf.loc[df[\\\"screen_size\\\"] > 18, \\\"screen_size\\\"] = 18\\n\\nfor col in numerical_cols:\\n    print(f\\\"Range of column '{col}' = ({df[col].min()}, {df[col].max()})\\\")\";\n",
       "                var nbb_cells = Jupyter.notebook.get_cells();\n",
       "                for (var i = 0; i < nbb_cells.length; ++i) {\n",
       "                    if (nbb_cells[i].input_prompt_number == nbb_cell_id) {\n",
       "                        if (nbb_cells[i].get_text() == nbb_unformatted_code) {\n",
       "                             nbb_cells[i].set_text(nbb_formatted_code);\n",
       "                        }\n",
       "                        break;\n",
       "                    }\n",
       "                }\n",
       "            }, 500);\n",
       "            "
      ],
      "text/plain": [
       "<IPython.core.display.Javascript object>"
      ]
     },
     "metadata": {},
     "output_type": "display_data"
    }
   ],
   "source": [
    "# Clipping\n",
    "df.loc[df[\"screen_size\"] > 18, \"screen_size\"] = 18\n",
    "\n",
    "for col in numerical_cols:\n",
    "    print(f\"Range of column '{col}' = ({df[col].min()}, {df[col].max()})\")"
   ]
  },
  {
   "cell_type": "markdown",
   "id": "e37df11a",
   "metadata": {},
   "source": [
    "Done! \n",
    "\n",
    "Minimum price of used_price is also fishy at 4.65, but we don't know if it is a flash sale. "
   ]
  },
  {
   "cell_type": "code",
   "execution_count": 219,
   "id": "474d3420",
   "metadata": {},
   "outputs": [
    {
     "name": "stdout",
     "output_type": "stream",
     "text": [
      "  brand_name       os  screen_size   4g   5g  main_camera_mp  \\\n",
      "0      Honor  Android        14.50  yes   no            13.0   \n",
      "1      Honor  Android        17.30  yes  yes            13.0   \n",
      "2      Honor  Android        16.69  yes  yes            13.0   \n",
      "3      Honor  Android        18.00  yes  yes            13.0   \n",
      "4      Honor  Android        15.32  yes   no            13.0   \n",
      "\n",
      "   selfie_camera_mp  ram  battery  days_used  new_price_log  new_int_memory  \\\n",
      "0               5.0  3.0   3020.0        127       4.715100        4.158883   \n",
      "1              16.0  8.0   4300.0        325       5.519018        4.852030   \n",
      "2               8.0  8.0   4200.0        162       5.884631        4.852030   \n",
      "3               8.0  6.0   7250.0        345       5.630961        4.158883   \n",
      "4               8.0  3.0   5000.0        293       4.947837        4.158883   \n",
      "\n",
      "   new_weight  age_of_model  \n",
      "0    4.983607             1  \n",
      "1    5.361292             1  \n",
      "2    5.361292             1  \n",
      "3    6.173786             1  \n",
      "4    5.220356             1  \n",
      "----------------------------------------------------------------------------------------------------\n",
      "0    4.307572\n",
      "1    5.162097\n",
      "2    5.111084\n",
      "3    5.135387\n",
      "4    4.389995\n",
      "Name: new_used_price, dtype: float64\n"
     ]
    },
    {
     "data": {
      "application/javascript": [
       "\n",
       "            setTimeout(function() {\n",
       "                var nbb_cell_id = 219;\n",
       "                var nbb_unformatted_code = \"### 4.9). Create dummy variables for the categorical variables\\n\\nX = df.drop([\\\"new_used_price\\\"], axis=1)\\ny = df[\\\"new_used_price\\\"]\\n\\nprint(X.head())\\nprint(\\\"--\\\" * 50)\\nprint(y.head())\";\n",
       "                var nbb_formatted_code = \"### 4.9). Create dummy variables for the categorical variables\\n\\nX = df.drop([\\\"new_used_price\\\"], axis=1)\\ny = df[\\\"new_used_price\\\"]\\n\\nprint(X.head())\\nprint(\\\"--\\\" * 50)\\nprint(y.head())\";\n",
       "                var nbb_cells = Jupyter.notebook.get_cells();\n",
       "                for (var i = 0; i < nbb_cells.length; ++i) {\n",
       "                    if (nbb_cells[i].input_prompt_number == nbb_cell_id) {\n",
       "                        if (nbb_cells[i].get_text() == nbb_unformatted_code) {\n",
       "                             nbb_cells[i].set_text(nbb_formatted_code);\n",
       "                        }\n",
       "                        break;\n",
       "                    }\n",
       "                }\n",
       "            }, 500);\n",
       "            "
      ],
      "text/plain": [
       "<IPython.core.display.Javascript object>"
      ]
     },
     "metadata": {},
     "output_type": "display_data"
    }
   ],
   "source": [
    "### 4.9). Create dummy variables for the categorical variables\n",
    "\n",
    "X = df.drop([\"new_used_price\"], axis=1)\n",
    "y = df[\"new_used_price\"]\n",
    "\n",
    "print(X.head())\n",
    "print(\"--\" * 50)\n",
    "print(y.head())"
   ]
  },
  {
   "cell_type": "code",
   "execution_count": 220,
   "id": "1c8f665e",
   "metadata": {},
   "outputs": [
    {
     "data": {
      "text/html": [
       "<div>\n",
       "<style scoped>\n",
       "    .dataframe tbody tr th:only-of-type {\n",
       "        vertical-align: middle;\n",
       "    }\n",
       "\n",
       "    .dataframe tbody tr th {\n",
       "        vertical-align: top;\n",
       "    }\n",
       "\n",
       "    .dataframe thead th {\n",
       "        text-align: right;\n",
       "    }\n",
       "</style>\n",
       "<table border=\"1\" class=\"dataframe\">\n",
       "  <thead>\n",
       "    <tr style=\"text-align: right;\">\n",
       "      <th></th>\n",
       "      <th>screen_size</th>\n",
       "      <th>main_camera_mp</th>\n",
       "      <th>selfie_camera_mp</th>\n",
       "      <th>ram</th>\n",
       "      <th>battery</th>\n",
       "      <th>days_used</th>\n",
       "      <th>new_price_log</th>\n",
       "      <th>new_int_memory</th>\n",
       "      <th>new_weight</th>\n",
       "      <th>age_of_model</th>\n",
       "      <th>...</th>\n",
       "      <th>brand_name_Spice</th>\n",
       "      <th>brand_name_Vivo</th>\n",
       "      <th>brand_name_XOLO</th>\n",
       "      <th>brand_name_Xiaomi</th>\n",
       "      <th>brand_name_ZTE</th>\n",
       "      <th>os_Others</th>\n",
       "      <th>os_Windows</th>\n",
       "      <th>os_iOS</th>\n",
       "      <th>4g_yes</th>\n",
       "      <th>5g_yes</th>\n",
       "    </tr>\n",
       "  </thead>\n",
       "  <tbody>\n",
       "    <tr>\n",
       "      <th>0</th>\n",
       "      <td>14.50</td>\n",
       "      <td>13.0</td>\n",
       "      <td>5.0</td>\n",
       "      <td>3.0</td>\n",
       "      <td>3020.0</td>\n",
       "      <td>127</td>\n",
       "      <td>4.715100</td>\n",
       "      <td>4.158883</td>\n",
       "      <td>4.983607</td>\n",
       "      <td>1</td>\n",
       "      <td>...</td>\n",
       "      <td>0</td>\n",
       "      <td>0</td>\n",
       "      <td>0</td>\n",
       "      <td>0</td>\n",
       "      <td>0</td>\n",
       "      <td>0</td>\n",
       "      <td>0</td>\n",
       "      <td>0</td>\n",
       "      <td>1</td>\n",
       "      <td>0</td>\n",
       "    </tr>\n",
       "    <tr>\n",
       "      <th>1</th>\n",
       "      <td>17.30</td>\n",
       "      <td>13.0</td>\n",
       "      <td>16.0</td>\n",
       "      <td>8.0</td>\n",
       "      <td>4300.0</td>\n",
       "      <td>325</td>\n",
       "      <td>5.519018</td>\n",
       "      <td>4.852030</td>\n",
       "      <td>5.361292</td>\n",
       "      <td>1</td>\n",
       "      <td>...</td>\n",
       "      <td>0</td>\n",
       "      <td>0</td>\n",
       "      <td>0</td>\n",
       "      <td>0</td>\n",
       "      <td>0</td>\n",
       "      <td>0</td>\n",
       "      <td>0</td>\n",
       "      <td>0</td>\n",
       "      <td>1</td>\n",
       "      <td>1</td>\n",
       "    </tr>\n",
       "    <tr>\n",
       "      <th>2</th>\n",
       "      <td>16.69</td>\n",
       "      <td>13.0</td>\n",
       "      <td>8.0</td>\n",
       "      <td>8.0</td>\n",
       "      <td>4200.0</td>\n",
       "      <td>162</td>\n",
       "      <td>5.884631</td>\n",
       "      <td>4.852030</td>\n",
       "      <td>5.361292</td>\n",
       "      <td>1</td>\n",
       "      <td>...</td>\n",
       "      <td>0</td>\n",
       "      <td>0</td>\n",
       "      <td>0</td>\n",
       "      <td>0</td>\n",
       "      <td>0</td>\n",
       "      <td>0</td>\n",
       "      <td>0</td>\n",
       "      <td>0</td>\n",
       "      <td>1</td>\n",
       "      <td>1</td>\n",
       "    </tr>\n",
       "    <tr>\n",
       "      <th>3</th>\n",
       "      <td>18.00</td>\n",
       "      <td>13.0</td>\n",
       "      <td>8.0</td>\n",
       "      <td>6.0</td>\n",
       "      <td>7250.0</td>\n",
       "      <td>345</td>\n",
       "      <td>5.630961</td>\n",
       "      <td>4.158883</td>\n",
       "      <td>6.173786</td>\n",
       "      <td>1</td>\n",
       "      <td>...</td>\n",
       "      <td>0</td>\n",
       "      <td>0</td>\n",
       "      <td>0</td>\n",
       "      <td>0</td>\n",
       "      <td>0</td>\n",
       "      <td>0</td>\n",
       "      <td>0</td>\n",
       "      <td>0</td>\n",
       "      <td>1</td>\n",
       "      <td>1</td>\n",
       "    </tr>\n",
       "    <tr>\n",
       "      <th>4</th>\n",
       "      <td>15.32</td>\n",
       "      <td>13.0</td>\n",
       "      <td>8.0</td>\n",
       "      <td>3.0</td>\n",
       "      <td>5000.0</td>\n",
       "      <td>293</td>\n",
       "      <td>4.947837</td>\n",
       "      <td>4.158883</td>\n",
       "      <td>5.220356</td>\n",
       "      <td>1</td>\n",
       "      <td>...</td>\n",
       "      <td>0</td>\n",
       "      <td>0</td>\n",
       "      <td>0</td>\n",
       "      <td>0</td>\n",
       "      <td>0</td>\n",
       "      <td>0</td>\n",
       "      <td>0</td>\n",
       "      <td>0</td>\n",
       "      <td>1</td>\n",
       "      <td>0</td>\n",
       "    </tr>\n",
       "  </tbody>\n",
       "</table>\n",
       "<p>5 rows × 48 columns</p>\n",
       "</div>"
      ],
      "text/plain": [
       "   screen_size  main_camera_mp  selfie_camera_mp  ram  battery  days_used  \\\n",
       "0        14.50            13.0               5.0  3.0   3020.0        127   \n",
       "1        17.30            13.0              16.0  8.0   4300.0        325   \n",
       "2        16.69            13.0               8.0  8.0   4200.0        162   \n",
       "3        18.00            13.0               8.0  6.0   7250.0        345   \n",
       "4        15.32            13.0               8.0  3.0   5000.0        293   \n",
       "\n",
       "   new_price_log  new_int_memory  new_weight  age_of_model  ...  \\\n",
       "0       4.715100        4.158883    4.983607             1  ...   \n",
       "1       5.519018        4.852030    5.361292             1  ...   \n",
       "2       5.884631        4.852030    5.361292             1  ...   \n",
       "3       5.630961        4.158883    6.173786             1  ...   \n",
       "4       4.947837        4.158883    5.220356             1  ...   \n",
       "\n",
       "   brand_name_Spice  brand_name_Vivo  brand_name_XOLO  brand_name_Xiaomi  \\\n",
       "0                 0                0                0                  0   \n",
       "1                 0                0                0                  0   \n",
       "2                 0                0                0                  0   \n",
       "3                 0                0                0                  0   \n",
       "4                 0                0                0                  0   \n",
       "\n",
       "   brand_name_ZTE  os_Others  os_Windows  os_iOS  4g_yes  5g_yes  \n",
       "0               0          0           0       0       1       0  \n",
       "1               0          0           0       0       1       1  \n",
       "2               0          0           0       0       1       1  \n",
       "3               0          0           0       0       1       1  \n",
       "4               0          0           0       0       1       0  \n",
       "\n",
       "[5 rows x 48 columns]"
      ]
     },
     "execution_count": 220,
     "metadata": {},
     "output_type": "execute_result"
    },
    {
     "data": {
      "application/javascript": [
       "\n",
       "            setTimeout(function() {\n",
       "                var nbb_cell_id = 220;\n",
       "                var nbb_unformatted_code = \"# creating dummy variables\\nX = pd.get_dummies(\\n    X,\\n    columns=X.select_dtypes(include=[\\\"object\\\", \\\"category\\\"]).columns.tolist(),\\n    drop_first=True,\\n)\\n\\nX.head()\";\n",
       "                var nbb_formatted_code = \"# creating dummy variables\\nX = pd.get_dummies(\\n    X,\\n    columns=X.select_dtypes(include=[\\\"object\\\", \\\"category\\\"]).columns.tolist(),\\n    drop_first=True,\\n)\\n\\nX.head()\";\n",
       "                var nbb_cells = Jupyter.notebook.get_cells();\n",
       "                for (var i = 0; i < nbb_cells.length; ++i) {\n",
       "                    if (nbb_cells[i].input_prompt_number == nbb_cell_id) {\n",
       "                        if (nbb_cells[i].get_text() == nbb_unformatted_code) {\n",
       "                             nbb_cells[i].set_text(nbb_formatted_code);\n",
       "                        }\n",
       "                        break;\n",
       "                    }\n",
       "                }\n",
       "            }, 500);\n",
       "            "
      ],
      "text/plain": [
       "<IPython.core.display.Javascript object>"
      ]
     },
     "metadata": {},
     "output_type": "display_data"
    }
   ],
   "source": [
    "# creating dummy variables\n",
    "X = pd.get_dummies(\n",
    "    X,\n",
    "    columns=X.select_dtypes(include=[\"object\", \"category\"]).columns.tolist(),\n",
    "    drop_first=True,\n",
    ")\n",
    "\n",
    "X.head()"
   ]
  },
  {
   "cell_type": "code",
   "execution_count": 221,
   "id": "25fbf29a",
   "metadata": {},
   "outputs": [
    {
     "name": "stdout",
     "output_type": "stream",
     "text": [
      "Number of rows in train data = 2417\n",
      "Number of rows in test data = 1037\n"
     ]
    },
    {
     "data": {
      "application/javascript": [
       "\n",
       "            setTimeout(function() {\n",
       "                var nbb_cell_id = 221;\n",
       "                var nbb_unformatted_code = \"# Splitting the data in 70:30 ratio for train to test data\\n\\nx_train, x_test, y_train, y_test = train_test_split(X, y, test_size=0.3, random_state=1)\\nprint(\\\"Number of rows in train data =\\\", x_train.shape[0])\\nprint(\\\"Number of rows in test data =\\\", x_test.shape[0])\";\n",
       "                var nbb_formatted_code = \"# Splitting the data in 70:30 ratio for train to test data\\n\\nx_train, x_test, y_train, y_test = train_test_split(X, y, test_size=0.3, random_state=1)\\nprint(\\\"Number of rows in train data =\\\", x_train.shape[0])\\nprint(\\\"Number of rows in test data =\\\", x_test.shape[0])\";\n",
       "                var nbb_cells = Jupyter.notebook.get_cells();\n",
       "                for (var i = 0; i < nbb_cells.length; ++i) {\n",
       "                    if (nbb_cells[i].input_prompt_number == nbb_cell_id) {\n",
       "                        if (nbb_cells[i].get_text() == nbb_unformatted_code) {\n",
       "                             nbb_cells[i].set_text(nbb_formatted_code);\n",
       "                        }\n",
       "                        break;\n",
       "                    }\n",
       "                }\n",
       "            }, 500);\n",
       "            "
      ],
      "text/plain": [
       "<IPython.core.display.Javascript object>"
      ]
     },
     "metadata": {},
     "output_type": "display_data"
    }
   ],
   "source": [
    "# Splitting the data in 70:30 ratio for train to test data\n",
    "\n",
    "x_train, x_test, y_train, y_test = train_test_split(X, y, test_size=0.3, random_state=1)\n",
    "print(\"Number of rows in train data =\", x_train.shape[0])\n",
    "print(\"Number of rows in test data =\", x_test.shape[0])"
   ]
  },
  {
   "cell_type": "markdown",
   "id": "0c8e7df0",
   "metadata": {},
   "source": [
    "### 4.10). Linear Regression using statsmodel package"
   ]
  },
  {
   "cell_type": "code",
   "execution_count": 235,
   "id": "68d39490",
   "metadata": {},
   "outputs": [
    {
     "name": "stdout",
     "output_type": "stream",
     "text": [
      "                            OLS Regression Results                            \n",
      "==============================================================================\n",
      "Dep. Variable:         new_used_price   R-squared:                       0.848\n",
      "Model:                            OLS   Adj. R-squared:                  0.845\n",
      "Method:                 Least Squares   F-statistic:                     275.1\n",
      "Date:                Sat, 11 Dec 2021   Prob (F-statistic):               0.00\n",
      "Time:                        14:42:50   Log-Likelihood:                 148.06\n",
      "No. Observations:                2417   AIC:                            -198.1\n",
      "Df Residuals:                    2368   BIC:                             85.61\n",
      "Df Model:                          48                                         \n",
      "Covariance Type:            nonrobust                                         \n",
      "=========================================================================================\n",
      "                            coef    std err          t      P>|t|      [0.025      0.975]\n",
      "-----------------------------------------------------------------------------------------\n",
      "const                    -0.2422      0.128     -1.893      0.058      -0.493       0.009\n",
      "screen_size               0.0264      0.004      7.305      0.000       0.019       0.034\n",
      "main_camera_mp            0.0199      0.001     13.801      0.000       0.017       0.023\n",
      "selfie_camera_mp          0.0130      0.001     11.547      0.000       0.011       0.015\n",
      "ram                       0.0206      0.005      4.061      0.000       0.011       0.031\n",
      "battery               -1.178e-05   6.92e-06     -1.703      0.089   -2.53e-05    1.79e-06\n",
      "days_used              4.598e-05   3.06e-05      1.502      0.133   -1.41e-05       0.000\n",
      "new_price_log             0.4264      0.012     35.426      0.000       0.403       0.450\n",
      "new_int_memory            0.0050      0.006      0.802      0.422      -0.007       0.017\n",
      "new_weight                0.3348      0.030     11.308      0.000       0.277       0.393\n",
      "age_of_model             -0.0207      0.005     -4.577      0.000      -0.030      -0.012\n",
      "brand_name_Alcatel        0.0172      0.047      0.364      0.716      -0.075       0.110\n",
      "brand_name_Apple          0.1421      0.145      0.979      0.328      -0.143       0.427\n",
      "brand_name_Asus           0.0128      0.047      0.270      0.787      -0.080       0.106\n",
      "brand_name_BlackBerry    -0.0579      0.070     -0.833      0.405      -0.194       0.078\n",
      "brand_name_Celkon        -0.0357      0.066     -0.542      0.588      -0.165       0.093\n",
      "brand_name_Coolpad        0.0517      0.072      0.717      0.473      -0.090       0.193\n",
      "brand_name_Gionee         0.0431      0.057      0.754      0.451      -0.069       0.155\n",
      "brand_name_Google        -0.0116      0.084     -0.139      0.890      -0.176       0.153\n",
      "brand_name_HTC            0.0004      0.048      0.008      0.993      -0.093       0.094\n",
      "brand_name_Honor          0.0319      0.049      0.655      0.512      -0.064       0.127\n",
      "brand_name_Huawei         0.0006      0.044      0.014      0.989      -0.086       0.087\n",
      "brand_name_Infinix        0.1312      0.092      1.423      0.155      -0.050       0.312\n",
      "brand_name_Karbonn        0.1208      0.066      1.821      0.069      -0.009       0.251\n",
      "brand_name_LG            -0.0007      0.045     -0.015      0.988      -0.089       0.087\n",
      "brand_name_Lava           0.0482      0.062      0.782      0.434      -0.073       0.169\n",
      "brand_name_Lenovo         0.0442      0.045      0.987      0.324      -0.044       0.132\n",
      "brand_name_Meizu          0.0188      0.055      0.340      0.734      -0.090       0.128\n",
      "brand_name_Micromax      -0.0212      0.047     -0.447      0.655      -0.114       0.072\n",
      "brand_name_Microsoft      0.1049      0.088      1.199      0.231      -0.067       0.277\n",
      "brand_name_Motorola       0.0066      0.049      0.134      0.894      -0.090       0.103\n",
      "brand_name_Nokia          0.1009      0.053      1.905      0.057      -0.003       0.205\n",
      "brand_name_OnePlus        0.1289      0.077      1.681      0.093      -0.021       0.279\n",
      "brand_name_Oppo           0.0300      0.047      0.635      0.526      -0.063       0.123\n",
      "brand_name_Others        -0.0081      0.042     -0.195      0.845      -0.090       0.074\n",
      "brand_name_Panasonic      0.0685      0.055      1.239      0.216      -0.040       0.177\n",
      "brand_name_Realme         0.1018      0.061      1.678      0.093      -0.017       0.221\n",
      "brand_name_Samsung       -0.0143      0.043     -0.334      0.738      -0.098       0.070\n",
      "brand_name_Sony          -0.0381      0.050     -0.764      0.445      -0.136       0.060\n",
      "brand_name_Spice         -0.0119      0.063     -0.190      0.849      -0.135       0.111\n",
      "brand_name_Vivo          -0.0052      0.048     -0.108      0.914      -0.099       0.089\n",
      "brand_name_XOLO           0.0246      0.054      0.453      0.650      -0.082       0.131\n",
      "brand_name_Xiaomi         0.0917      0.048      1.930      0.054      -0.001       0.185\n",
      "brand_name_ZTE            0.0067      0.047      0.143      0.887      -0.085       0.099\n",
      "os_Others                 0.0077      0.033      0.235      0.814      -0.057       0.072\n",
      "os_Windows               -0.0128      0.045     -0.284      0.777      -0.101       0.076\n",
      "os_iOS                   -0.1731      0.144     -1.199      0.231      -0.456       0.110\n",
      "4g_yes                    0.0437      0.016      2.792      0.005       0.013       0.074\n",
      "5g_yes                   -0.0393      0.031     -1.256      0.209      -0.101       0.022\n",
      "==============================================================================\n",
      "Omnibus:                      210.157   Durbin-Watson:                   1.911\n",
      "Prob(Omnibus):                  0.000   Jarque-Bera (JB):              421.487\n",
      "Skew:                          -0.570   Prob(JB):                     2.99e-92\n",
      "Kurtosis:                       4.699   Cond. No.                     1.79e+05\n",
      "==============================================================================\n",
      "\n",
      "Notes:\n",
      "[1] Standard Errors assume that the covariance matrix of the errors is correctly specified.\n",
      "[2] The condition number is large, 1.79e+05. This might indicate that there are\n",
      "strong multicollinearity or other numerical problems.\n"
     ]
    },
    {
     "data": {
      "application/javascript": [
       "\n",
       "            setTimeout(function() {\n",
       "                var nbb_cell_id = 235;\n",
       "                var nbb_unformatted_code = \"# adding constant to the train data\\nx_train1 = sm.add_constant(x_train)\\n# adding constant to the test data\\nx_test1 = sm.add_constant(x_test)\\n\\nolsmodel1 = sm.OLS(y_train, x_train1).fit()\\nprint(olsmodel1.summary())\\n\\n## I got a 0.75 adj-R-squared as compared to 0.85 for Great Learning where they used before doing log(price).\";\n",
       "                var nbb_formatted_code = \"# adding constant to the train data\\nx_train1 = sm.add_constant(x_train)\\n# adding constant to the test data\\nx_test1 = sm.add_constant(x_test)\\n\\nolsmodel1 = sm.OLS(y_train, x_train1).fit()\\nprint(olsmodel1.summary())\\n\\n## I got a 0.75 adj-R-squared as compared to 0.85 for Great Learning where they used before doing log(price).\";\n",
       "                var nbb_cells = Jupyter.notebook.get_cells();\n",
       "                for (var i = 0; i < nbb_cells.length; ++i) {\n",
       "                    if (nbb_cells[i].input_prompt_number == nbb_cell_id) {\n",
       "                        if (nbb_cells[i].get_text() == nbb_unformatted_code) {\n",
       "                             nbb_cells[i].set_text(nbb_formatted_code);\n",
       "                        }\n",
       "                        break;\n",
       "                    }\n",
       "                }\n",
       "            }, 500);\n",
       "            "
      ],
      "text/plain": [
       "<IPython.core.display.Javascript object>"
      ]
     },
     "metadata": {},
     "output_type": "display_data"
    }
   ],
   "source": [
    "# adding constant to the train data\n",
    "x_train1 = sm.add_constant(x_train)\n",
    "# adding constant to the test data\n",
    "x_test1 = sm.add_constant(x_test)\n",
    "\n",
    "olsmodel1 = sm.OLS(y_train, x_train1).fit()\n",
    "print(olsmodel1.summary())\n",
    "\n",
    "## I got a 0.75 adj-R-squared as compared to 0.85 for Great Learning where they used before doing log(price)."
   ]
  },
  {
   "cell_type": "markdown",
   "id": "070d92e4",
   "metadata": {},
   "source": [
    "### 4.11). Evaulation of the model"
   ]
  },
  {
   "cell_type": "code",
   "execution_count": 262,
   "id": "773686fa",
   "metadata": {},
   "outputs": [
    {
     "data": {
      "application/javascript": [
       "\n",
       "            setTimeout(function() {\n",
       "                var nbb_cell_id = 262;\n",
       "                var nbb_unformatted_code = \"# function to compute MAPE\\ndef mape_score(targets, predictions):\\n    return np.mean(np.abs(targets - predictions) / targets) * 100\\n\\n\\n# function to compute different metrics to check performance of a regression model\\ndef model_performance_regression(model, predictors, target):\\n    \\\"\\\"\\\"\\n    Function to compute different metrics to check regression model performance\\n\\n    model: regressor\\n    predictors: independent variables\\n    target: dependent variable\\n    \\\"\\\"\\\"\\n\\n    # predicting using the independent variables\\n    pred = model.predict(predictors)\\n\\n    # computing the actual prices by using the exponential function\\n    target = np.exp(target)\\n    pred = np.exp(pred)\\n\\n    rmse = np.sqrt(mean_squared_error(target, pred))  # to compute RMSE\\n    mae = mean_absolute_error(target, pred)  # to compute MAE\\n    mape = mape_score(target, pred)  # to compute MAPE\\n\\n    # creating a dataframe of metrics\\n    df_perf = pd.DataFrame({\\\"RMSE\\\": rmse, \\\"MAE\\\": mae, \\\"MAPE\\\": mape,}, index=[0],)\\n\\n    return df_perf\";\n",
       "                var nbb_formatted_code = \"# function to compute MAPE\\ndef mape_score(targets, predictions):\\n    return np.mean(np.abs(targets - predictions) / targets) * 100\\n\\n\\n# function to compute different metrics to check performance of a regression model\\ndef model_performance_regression(model, predictors, target):\\n    \\\"\\\"\\\"\\n    Function to compute different metrics to check regression model performance\\n\\n    model: regressor\\n    predictors: independent variables\\n    target: dependent variable\\n    \\\"\\\"\\\"\\n\\n    # predicting using the independent variables\\n    pred = model.predict(predictors)\\n\\n    # computing the actual prices by using the exponential function\\n    target = np.exp(target)\\n    pred = np.exp(pred)\\n\\n    rmse = np.sqrt(mean_squared_error(target, pred))  # to compute RMSE\\n    mae = mean_absolute_error(target, pred)  # to compute MAE\\n    mape = mape_score(target, pred)  # to compute MAPE\\n\\n    # creating a dataframe of metrics\\n    df_perf = pd.DataFrame({\\\"RMSE\\\": rmse, \\\"MAE\\\": mae, \\\"MAPE\\\": mape,}, index=[0],)\\n\\n    return df_perf\";\n",
       "                var nbb_cells = Jupyter.notebook.get_cells();\n",
       "                for (var i = 0; i < nbb_cells.length; ++i) {\n",
       "                    if (nbb_cells[i].input_prompt_number == nbb_cell_id) {\n",
       "                        if (nbb_cells[i].get_text() == nbb_unformatted_code) {\n",
       "                             nbb_cells[i].set_text(nbb_formatted_code);\n",
       "                        }\n",
       "                        break;\n",
       "                    }\n",
       "                }\n",
       "            }, 500);\n",
       "            "
      ],
      "text/plain": [
       "<IPython.core.display.Javascript object>"
      ]
     },
     "metadata": {},
     "output_type": "display_data"
    }
   ],
   "source": [
    "# function to compute MAPE\n",
    "def mape_score(targets, predictions):\n",
    "    return np.mean(np.abs(targets - predictions) / targets) * 100\n",
    "\n",
    "\n",
    "# function to compute different metrics to check performance of a regression model\n",
    "def model_performance_regression(model, predictors, target):\n",
    "    \"\"\"\n",
    "    Function to compute different metrics to check regression model performance\n",
    "\n",
    "    model: regressor\n",
    "    predictors: independent variables\n",
    "    target: dependent variable\n",
    "    \"\"\"\n",
    "\n",
    "    # predicting using the independent variables\n",
    "    pred = model.predict(predictors)\n",
    "\n",
    "    # computing the actual prices by using the exponential function\n",
    "    target = np.exp(target)\n",
    "    pred = np.exp(pred)\n",
    "\n",
    "    rmse = np.sqrt(mean_squared_error(target, pred))  # to compute RMSE\n",
    "    mae = mean_absolute_error(target, pred)  # to compute MAE\n",
    "    mape = mape_score(target, pred)  # to compute MAPE\n",
    "\n",
    "    # creating a dataframe of metrics\n",
    "    df_perf = pd.DataFrame({\"RMSE\": rmse, \"MAE\": mae, \"MAPE\": mape,}, index=[0],)\n",
    "\n",
    "    return df_perf"
   ]
  },
  {
   "cell_type": "markdown",
   "id": "93a05e82",
   "metadata": {},
   "source": [
    "### 4.12). Training vs Test accuracy check"
   ]
  },
  {
   "cell_type": "code",
   "execution_count": 263,
   "id": "b2e3f5fa",
   "metadata": {},
   "outputs": [
    {
     "name": "stdout",
     "output_type": "stream",
     "text": [
      "Training Performance\n",
      "\n",
      "        RMSE        MAE       MAPE\n",
      "0  24.947967  16.161193  18.438679\n",
      "############################################################\n",
      "Test Performance\n",
      "\n",
      "        RMSE        MAE       MAPE\n",
      "0  23.955355  16.392528  19.115231\n"
     ]
    },
    {
     "data": {
      "application/javascript": [
       "\n",
       "            setTimeout(function() {\n",
       "                var nbb_cell_id = 263;\n",
       "                var nbb_unformatted_code = \"# checking model performance on train set (seen 70% data)\\nprint(\\\"Training Performance\\\\n\\\")\\nolsmodel1_train_perf = model_performance_regression(olsmodel1, x_train1, y_train)\\nprint(olsmodel1_train_perf)\\nprint(\\\"##\\\" * 30)\\n\\n# checking model performance on test set (seen 30% data)\\nprint(\\\"Test Performance\\\\n\\\")\\nolsmodel1_test_perf = model_performance_regression(olsmodel1, x_test1, y_test)\\nprint(olsmodel1_test_perf)\";\n",
       "                var nbb_formatted_code = \"# checking model performance on train set (seen 70% data)\\nprint(\\\"Training Performance\\\\n\\\")\\nolsmodel1_train_perf = model_performance_regression(olsmodel1, x_train1, y_train)\\nprint(olsmodel1_train_perf)\\nprint(\\\"##\\\" * 30)\\n\\n# checking model performance on test set (seen 30% data)\\nprint(\\\"Test Performance\\\\n\\\")\\nolsmodel1_test_perf = model_performance_regression(olsmodel1, x_test1, y_test)\\nprint(olsmodel1_test_perf)\";\n",
       "                var nbb_cells = Jupyter.notebook.get_cells();\n",
       "                for (var i = 0; i < nbb_cells.length; ++i) {\n",
       "                    if (nbb_cells[i].input_prompt_number == nbb_cell_id) {\n",
       "                        if (nbb_cells[i].get_text() == nbb_unformatted_code) {\n",
       "                             nbb_cells[i].set_text(nbb_formatted_code);\n",
       "                        }\n",
       "                        break;\n",
       "                    }\n",
       "                }\n",
       "            }, 500);\n",
       "            "
      ],
      "text/plain": [
       "<IPython.core.display.Javascript object>"
      ]
     },
     "metadata": {},
     "output_type": "display_data"
    }
   ],
   "source": [
    "# checking model performance on train set (seen 70% data)\n",
    "print(\"Training Performance\\n\")\n",
    "olsmodel1_train_perf = model_performance_regression(olsmodel1, x_train1, y_train)\n",
    "print(olsmodel1_train_perf)\n",
    "print(\"##\" * 30)\n",
    "\n",
    "# checking model performance on test set (seen 30% data)\n",
    "print(\"Test Performance\\n\")\n",
    "olsmodel1_test_perf = model_performance_regression(olsmodel1, x_test1, y_test)\n",
    "print(olsmodel1_test_perf)"
   ]
  },
  {
   "cell_type": "code",
   "execution_count": 268,
   "id": "bd46a0ec",
   "metadata": {},
   "outputs": [
    {
     "data": {
      "text/plain": [
       "29.25980212532063"
      ]
     },
     "execution_count": 268,
     "metadata": {},
     "output_type": "execute_result"
    },
    {
     "data": {
      "application/javascript": [
       "\n",
       "            setTimeout(function() {\n",
       "                var nbb_cell_id = 268;\n",
       "                var nbb_unformatted_code = \"### 10-15% RMSE Thumb Rule (Error percentage)\\n23.955 * 100 / data[\\n    \\\"used_price\\\"\\n].median()  # 29% is much greater than 10-15% which is a good model.\";\n",
       "                var nbb_formatted_code = \"### 10-15% RMSE Thumb Rule (Error percentage)\\n23.955 * 100 / data[\\n    \\\"used_price\\\"\\n].median()  # 29% is much greater than 10-15% which is a good model.\";\n",
       "                var nbb_cells = Jupyter.notebook.get_cells();\n",
       "                for (var i = 0; i < nbb_cells.length; ++i) {\n",
       "                    if (nbb_cells[i].input_prompt_number == nbb_cell_id) {\n",
       "                        if (nbb_cells[i].get_text() == nbb_unformatted_code) {\n",
       "                             nbb_cells[i].set_text(nbb_formatted_code);\n",
       "                        }\n",
       "                        break;\n",
       "                    }\n",
       "                }\n",
       "            }, 500);\n",
       "            "
      ],
      "text/plain": [
       "<IPython.core.display.Javascript object>"
      ]
     },
     "metadata": {},
     "output_type": "display_data"
    }
   ],
   "source": [
    "### 10-15% RMSE Thumb Rule (Error percentage)\n",
    "23.955 * 100 / data[\n",
    "    \"used_price\"\n",
    "].median()  # 29% is much greater than 10-15% which is a good model."
   ]
  },
  {
   "cell_type": "markdown",
   "id": "549f0cb9",
   "metadata": {},
   "source": [
    "**This is a poor performance despite a high adjusted R-squared. I wouldn't trust linear regression with this data, and will resort to other models if possible.**\n",
    "\n",
    "This also goes to show why RMSE is a better metric than adjusted R-squared."
   ]
  },
  {
   "cell_type": "markdown",
   "id": "44c94809",
   "metadata": {},
   "source": [
    "### 4.13). Model Assumptions (Residual normality, multicollinearity)"
   ]
  },
  {
   "cell_type": "code",
   "execution_count": 269,
   "id": "dae001f9",
   "metadata": {},
   "outputs": [
    {
     "data": {
      "text/html": [
       "<div>\n",
       "<style scoped>\n",
       "    .dataframe tbody tr th:only-of-type {\n",
       "        vertical-align: middle;\n",
       "    }\n",
       "\n",
       "    .dataframe tbody tr th {\n",
       "        vertical-align: top;\n",
       "    }\n",
       "\n",
       "    .dataframe thead th {\n",
       "        text-align: right;\n",
       "    }\n",
       "</style>\n",
       "<table border=\"1\" class=\"dataframe\">\n",
       "  <thead>\n",
       "    <tr style=\"text-align: right;\">\n",
       "      <th></th>\n",
       "      <th>Actual Values</th>\n",
       "      <th>Predicted Values</th>\n",
       "      <th>Residuals</th>\n",
       "    </tr>\n",
       "  </thead>\n",
       "  <tbody>\n",
       "    <tr>\n",
       "      <th>3026</th>\n",
       "      <td>4.087488</td>\n",
       "      <td>3.833747</td>\n",
       "      <td>0.253741</td>\n",
       "    </tr>\n",
       "    <tr>\n",
       "      <th>1525</th>\n",
       "      <td>4.448399</td>\n",
       "      <td>4.681581</td>\n",
       "      <td>-0.233182</td>\n",
       "    </tr>\n",
       "    <tr>\n",
       "      <th>1128</th>\n",
       "      <td>4.315353</td>\n",
       "      <td>4.322930</td>\n",
       "      <td>-0.007578</td>\n",
       "    </tr>\n",
       "    <tr>\n",
       "      <th>3003</th>\n",
       "      <td>4.282068</td>\n",
       "      <td>4.273002</td>\n",
       "      <td>0.009066</td>\n",
       "    </tr>\n",
       "    <tr>\n",
       "      <th>2907</th>\n",
       "      <td>4.456438</td>\n",
       "      <td>4.444743</td>\n",
       "      <td>0.011695</td>\n",
       "    </tr>\n",
       "  </tbody>\n",
       "</table>\n",
       "</div>"
      ],
      "text/plain": [
       "      Actual Values  Predicted Values  Residuals\n",
       "3026       4.087488          3.833747   0.253741\n",
       "1525       4.448399          4.681581  -0.233182\n",
       "1128       4.315353          4.322930  -0.007578\n",
       "3003       4.282068          4.273002   0.009066\n",
       "2907       4.456438          4.444743   0.011695"
      ]
     },
     "execution_count": 269,
     "metadata": {},
     "output_type": "execute_result"
    },
    {
     "data": {
      "application/javascript": [
       "\n",
       "            setTimeout(function() {\n",
       "                var nbb_cell_id = 269;\n",
       "                var nbb_unformatted_code = \"### Check for residual normality\\n\\n# let us create a dataframe with actual, fitted and residual values\\ndf_pred = pd.DataFrame()\\n\\ndf_pred[\\\"Actual Values\\\"] = y_train  # actual values\\ndf_pred[\\\"Predicted Values\\\"] = olsmodel1.fittedvalues  # predicted values\\ndf_pred[\\\"Residuals\\\"] = olsmodel1.resid  # residuals\\n\\ndf_pred.head()\";\n",
       "                var nbb_formatted_code = \"### Check for residual normality\\n\\n# let us create a dataframe with actual, fitted and residual values\\ndf_pred = pd.DataFrame()\\n\\ndf_pred[\\\"Actual Values\\\"] = y_train  # actual values\\ndf_pred[\\\"Predicted Values\\\"] = olsmodel1.fittedvalues  # predicted values\\ndf_pred[\\\"Residuals\\\"] = olsmodel1.resid  # residuals\\n\\ndf_pred.head()\";\n",
       "                var nbb_cells = Jupyter.notebook.get_cells();\n",
       "                for (var i = 0; i < nbb_cells.length; ++i) {\n",
       "                    if (nbb_cells[i].input_prompt_number == nbb_cell_id) {\n",
       "                        if (nbb_cells[i].get_text() == nbb_unformatted_code) {\n",
       "                             nbb_cells[i].set_text(nbb_formatted_code);\n",
       "                        }\n",
       "                        break;\n",
       "                    }\n",
       "                }\n",
       "            }, 500);\n",
       "            "
      ],
      "text/plain": [
       "<IPython.core.display.Javascript object>"
      ]
     },
     "metadata": {},
     "output_type": "display_data"
    }
   ],
   "source": [
    "### Check for residual normality\n",
    "\n",
    "# let us create a dataframe with actual, fitted and residual values\n",
    "df_pred = pd.DataFrame()\n",
    "\n",
    "df_pred[\"Actual Values\"] = y_train  # actual values\n",
    "df_pred[\"Predicted Values\"] = olsmodel1.fittedvalues  # predicted values\n",
    "df_pred[\"Residuals\"] = olsmodel1.resid  # residuals\n",
    "\n",
    "df_pred.head()"
   ]
  },
  {
   "cell_type": "code",
   "execution_count": 270,
   "id": "4280f7d0",
   "metadata": {},
   "outputs": [
    {
     "data": {
      "image/png": "[encoded data removed]",
      "text/plain": [
       "<Figure size 432x288 with 1 Axes>"
      ]
     },
     "metadata": {},
     "output_type": "display_data"
    },
    {
     "data": {
      "application/javascript": [
       "\n",
       "            setTimeout(function() {\n",
       "                var nbb_cell_id = 270;\n",
       "                var nbb_unformatted_code = \"sns.histplot(data=df_pred, x=\\\"Residuals\\\", kde=True)\\nplt.title(\\\"Normality of residuals\\\")\\nplt.show()  # CLose to normal. Passable\";\n",
       "                var nbb_formatted_code = \"sns.histplot(data=df_pred, x=\\\"Residuals\\\", kde=True)\\nplt.title(\\\"Normality of residuals\\\")\\nplt.show()  # CLose to normal. Passable\";\n",
       "                var nbb_cells = Jupyter.notebook.get_cells();\n",
       "                for (var i = 0; i < nbb_cells.length; ++i) {\n",
       "                    if (nbb_cells[i].input_prompt_number == nbb_cell_id) {\n",
       "                        if (nbb_cells[i].get_text() == nbb_unformatted_code) {\n",
       "                             nbb_cells[i].set_text(nbb_formatted_code);\n",
       "                        }\n",
       "                        break;\n",
       "                    }\n",
       "                }\n",
       "            }, 500);\n",
       "            "
      ],
      "text/plain": [
       "<IPython.core.display.Javascript object>"
      ]
     },
     "metadata": {},
     "output_type": "display_data"
    }
   ],
   "source": [
    "sns.histplot(data=df_pred, x=\"Residuals\", kde=True)\n",
    "plt.title(\"Normality of residuals\")\n",
    "plt.show()  # CLose to normal. Passable"
   ]
  },
  {
   "cell_type": "code",
   "execution_count": 228,
   "id": "5a1bcc40",
   "metadata": {},
   "outputs": [
    {
     "data": {
      "application/javascript": [
       "\n",
       "            setTimeout(function() {\n",
       "                var nbb_cell_id = 228;\n",
       "                var nbb_unformatted_code = \"#### Check for multi-collinearity\\n\\n# Note that VIF should be ignored for dummy variables\\n\\nfrom statsmodels.stats.outliers_influence import variance_inflation_factor\\n\\n# we will define a function to check VIF\\ndef checking_vif(predictors):\\n    vif = pd.DataFrame()\\n    vif[\\\"feature\\\"] = predictors.columns\\n\\n    # calculating VIF for each feature\\n    vif[\\\"VIF\\\"] = [\\n        variance_inflation_factor(predictors.values, i)\\n        for i in range(len(predictors.columns))\\n    ]\\n    return vif\";\n",
       "                var nbb_formatted_code = \"#### Check for multi-collinearity\\n\\n# Note that VIF should be ignored for dummy variables\\n\\nfrom statsmodels.stats.outliers_influence import variance_inflation_factor\\n\\n# we will define a function to check VIF\\ndef checking_vif(predictors):\\n    vif = pd.DataFrame()\\n    vif[\\\"feature\\\"] = predictors.columns\\n\\n    # calculating VIF for each feature\\n    vif[\\\"VIF\\\"] = [\\n        variance_inflation_factor(predictors.values, i)\\n        for i in range(len(predictors.columns))\\n    ]\\n    return vif\";\n",
       "                var nbb_cells = Jupyter.notebook.get_cells();\n",
       "                for (var i = 0; i < nbb_cells.length; ++i) {\n",
       "                    if (nbb_cells[i].input_prompt_number == nbb_cell_id) {\n",
       "                        if (nbb_cells[i].get_text() == nbb_unformatted_code) {\n",
       "                             nbb_cells[i].set_text(nbb_formatted_code);\n",
       "                        }\n",
       "                        break;\n",
       "                    }\n",
       "                }\n",
       "            }, 500);\n",
       "            "
      ],
      "text/plain": [
       "<IPython.core.display.Javascript object>"
      ]
     },
     "metadata": {},
     "output_type": "display_data"
    }
   ],
   "source": [
    "#### Check for multi-collinearity\n",
    "\n",
    "# Note that VIF should be ignored for dummy variables\n",
    "\n",
    "from statsmodels.stats.outliers_influence import variance_inflation_factor\n",
    "\n",
    "# we will define a function to check VIF\n",
    "def checking_vif(predictors):\n",
    "    vif = pd.DataFrame()\n",
    "    vif[\"feature\"] = predictors.columns\n",
    "\n",
    "    # calculating VIF for each feature\n",
    "    vif[\"VIF\"] = [\n",
    "        variance_inflation_factor(predictors.values, i)\n",
    "        for i in range(len(predictors.columns))\n",
    "    ]\n",
    "    return vif"
   ]
  },
  {
   "cell_type": "code",
   "execution_count": 229,
   "id": "080f3515",
   "metadata": {},
   "outputs": [
    {
     "data": {
      "text/html": [
       "<div>\n",
       "<style scoped>\n",
       "    .dataframe tbody tr th:only-of-type {\n",
       "        vertical-align: middle;\n",
       "    }\n",
       "\n",
       "    .dataframe tbody tr th {\n",
       "        vertical-align: top;\n",
       "    }\n",
       "\n",
       "    .dataframe thead th {\n",
       "        text-align: right;\n",
       "    }\n",
       "</style>\n",
       "<table border=\"1\" class=\"dataframe\">\n",
       "  <thead>\n",
       "    <tr style=\"text-align: right;\">\n",
       "      <th></th>\n",
       "      <th>feature</th>\n",
       "      <th>VIF</th>\n",
       "    </tr>\n",
       "  </thead>\n",
       "  <tbody>\n",
       "    <tr>\n",
       "      <th>0</th>\n",
       "      <td>const</td>\n",
       "      <td>747.999311</td>\n",
       "    </tr>\n",
       "    <tr>\n",
       "      <th>1</th>\n",
       "      <td>screen_size</td>\n",
       "      <td>5.114107</td>\n",
       "    </tr>\n",
       "    <tr>\n",
       "      <th>2</th>\n",
       "      <td>main_camera_mp</td>\n",
       "      <td>2.104177</td>\n",
       "    </tr>\n",
       "    <tr>\n",
       "      <th>3</th>\n",
       "      <td>selfie_camera_mp</td>\n",
       "      <td>2.891346</td>\n",
       "    </tr>\n",
       "    <tr>\n",
       "      <th>4</th>\n",
       "      <td>ram</td>\n",
       "      <td>2.244585</td>\n",
       "    </tr>\n",
       "    <tr>\n",
       "      <th>5</th>\n",
       "      <td>battery</td>\n",
       "      <td>3.764109</td>\n",
       "    </tr>\n",
       "    <tr>\n",
       "      <th>6</th>\n",
       "      <td>days_used</td>\n",
       "      <td>2.671742</td>\n",
       "    </tr>\n",
       "    <tr>\n",
       "      <th>7</th>\n",
       "      <td>new_price_log</td>\n",
       "      <td>3.064457</td>\n",
       "    </tr>\n",
       "    <tr>\n",
       "      <th>8</th>\n",
       "      <td>new_int_memory</td>\n",
       "      <td>2.085191</td>\n",
       "    </tr>\n",
       "    <tr>\n",
       "      <th>9</th>\n",
       "      <td>new_weight</td>\n",
       "      <td>4.868713</td>\n",
       "    </tr>\n",
       "    <tr>\n",
       "      <th>10</th>\n",
       "      <td>age_of_model</td>\n",
       "      <td>4.909022</td>\n",
       "    </tr>\n",
       "    <tr>\n",
       "      <th>11</th>\n",
       "      <td>brand_name_Alcatel</td>\n",
       "      <td>3.406111</td>\n",
       "    </tr>\n",
       "    <tr>\n",
       "      <th>12</th>\n",
       "      <td>brand_name_Apple</td>\n",
       "      <td>12.988442</td>\n",
       "    </tr>\n",
       "    <tr>\n",
       "      <th>13</th>\n",
       "      <td>brand_name_Asus</td>\n",
       "      <td>3.329414</td>\n",
       "    </tr>\n",
       "    <tr>\n",
       "      <th>14</th>\n",
       "      <td>brand_name_BlackBerry</td>\n",
       "      <td>1.632982</td>\n",
       "    </tr>\n",
       "    <tr>\n",
       "      <th>15</th>\n",
       "      <td>brand_name_Celkon</td>\n",
       "      <td>1.787416</td>\n",
       "    </tr>\n",
       "    <tr>\n",
       "      <th>16</th>\n",
       "      <td>brand_name_Coolpad</td>\n",
       "      <td>1.467386</td>\n",
       "    </tr>\n",
       "    <tr>\n",
       "      <th>17</th>\n",
       "      <td>brand_name_Gionee</td>\n",
       "      <td>1.948346</td>\n",
       "    </tr>\n",
       "    <tr>\n",
       "      <th>18</th>\n",
       "      <td>brand_name_Google</td>\n",
       "      <td>1.323230</td>\n",
       "    </tr>\n",
       "    <tr>\n",
       "      <th>19</th>\n",
       "      <td>brand_name_HTC</td>\n",
       "      <td>3.416193</td>\n",
       "    </tr>\n",
       "    <tr>\n",
       "      <th>20</th>\n",
       "      <td>brand_name_Honor</td>\n",
       "      <td>3.344189</td>\n",
       "    </tr>\n",
       "    <tr>\n",
       "      <th>21</th>\n",
       "      <td>brand_name_Huawei</td>\n",
       "      <td>5.984342</td>\n",
       "    </tr>\n",
       "    <tr>\n",
       "      <th>22</th>\n",
       "      <td>brand_name_Infinix</td>\n",
       "      <td>1.281468</td>\n",
       "    </tr>\n",
       "    <tr>\n",
       "      <th>23</th>\n",
       "      <td>brand_name_Karbonn</td>\n",
       "      <td>1.570803</td>\n",
       "    </tr>\n",
       "    <tr>\n",
       "      <th>24</th>\n",
       "      <td>brand_name_LG</td>\n",
       "      <td>4.861065</td>\n",
       "    </tr>\n",
       "    <tr>\n",
       "      <th>25</th>\n",
       "      <td>brand_name_Lava</td>\n",
       "      <td>1.709208</td>\n",
       "    </tr>\n",
       "    <tr>\n",
       "      <th>26</th>\n",
       "      <td>brand_name_Lenovo</td>\n",
       "      <td>4.557298</td>\n",
       "    </tr>\n",
       "    <tr>\n",
       "      <th>27</th>\n",
       "      <td>brand_name_Meizu</td>\n",
       "      <td>2.174071</td>\n",
       "    </tr>\n",
       "    <tr>\n",
       "      <th>28</th>\n",
       "      <td>brand_name_Micromax</td>\n",
       "      <td>3.359960</td>\n",
       "    </tr>\n",
       "    <tr>\n",
       "      <th>29</th>\n",
       "      <td>brand_name_Microsoft</td>\n",
       "      <td>1.873664</td>\n",
       "    </tr>\n",
       "    <tr>\n",
       "      <th>30</th>\n",
       "      <td>brand_name_Motorola</td>\n",
       "      <td>3.259308</td>\n",
       "    </tr>\n",
       "    <tr>\n",
       "      <th>31</th>\n",
       "      <td>brand_name_Nokia</td>\n",
       "      <td>3.708774</td>\n",
       "    </tr>\n",
       "    <tr>\n",
       "      <th>32</th>\n",
       "      <td>brand_name_OnePlus</td>\n",
       "      <td>1.436462</td>\n",
       "    </tr>\n",
       "    <tr>\n",
       "      <th>33</th>\n",
       "      <td>brand_name_Oppo</td>\n",
       "      <td>3.975271</td>\n",
       "    </tr>\n",
       "    <tr>\n",
       "      <th>34</th>\n",
       "      <td>brand_name_Others</td>\n",
       "      <td>9.713652</td>\n",
       "    </tr>\n",
       "    <tr>\n",
       "      <th>35</th>\n",
       "      <td>brand_name_Panasonic</td>\n",
       "      <td>2.106474</td>\n",
       "    </tr>\n",
       "    <tr>\n",
       "      <th>36</th>\n",
       "      <td>brand_name_Realme</td>\n",
       "      <td>1.926855</td>\n",
       "    </tr>\n",
       "    <tr>\n",
       "      <th>37</th>\n",
       "      <td>brand_name_Samsung</td>\n",
       "      <td>7.564873</td>\n",
       "    </tr>\n",
       "    <tr>\n",
       "      <th>38</th>\n",
       "      <td>brand_name_Sony</td>\n",
       "      <td>2.939640</td>\n",
       "    </tr>\n",
       "    <tr>\n",
       "      <th>39</th>\n",
       "      <td>brand_name_Spice</td>\n",
       "      <td>1.688244</td>\n",
       "    </tr>\n",
       "    <tr>\n",
       "      <th>40</th>\n",
       "      <td>brand_name_Vivo</td>\n",
       "      <td>3.646472</td>\n",
       "    </tr>\n",
       "    <tr>\n",
       "      <th>41</th>\n",
       "      <td>brand_name_XOLO</td>\n",
       "      <td>2.138587</td>\n",
       "    </tr>\n",
       "    <tr>\n",
       "      <th>42</th>\n",
       "      <td>brand_name_Xiaomi</td>\n",
       "      <td>3.701779</td>\n",
       "    </tr>\n",
       "    <tr>\n",
       "      <th>43</th>\n",
       "      <td>brand_name_ZTE</td>\n",
       "      <td>3.797559</td>\n",
       "    </tr>\n",
       "    <tr>\n",
       "      <th>44</th>\n",
       "      <td>os_Others</td>\n",
       "      <td>1.904348</td>\n",
       "    </tr>\n",
       "    <tr>\n",
       "      <th>45</th>\n",
       "      <td>os_Windows</td>\n",
       "      <td>1.626545</td>\n",
       "    </tr>\n",
       "    <tr>\n",
       "      <th>46</th>\n",
       "      <td>os_iOS</td>\n",
       "      <td>11.689262</td>\n",
       "    </tr>\n",
       "    <tr>\n",
       "      <th>47</th>\n",
       "      <td>4g_yes</td>\n",
       "      <td>2.447810</td>\n",
       "    </tr>\n",
       "    <tr>\n",
       "      <th>48</th>\n",
       "      <td>5g_yes</td>\n",
       "      <td>1.822181</td>\n",
       "    </tr>\n",
       "  </tbody>\n",
       "</table>\n",
       "</div>"
      ],
      "text/plain": [
       "                  feature         VIF\n",
       "0                   const  747.999311\n",
       "1             screen_size    5.114107\n",
       "2          main_camera_mp    2.104177\n",
       "3        selfie_camera_mp    2.891346\n",
       "4                     ram    2.244585\n",
       "5                 battery    3.764109\n",
       "6               days_used    2.671742\n",
       "7           new_price_log    3.064457\n",
       "8          new_int_memory    2.085191\n",
       "9              new_weight    4.868713\n",
       "10           age_of_model    4.909022\n",
       "11     brand_name_Alcatel    3.406111\n",
       "12       brand_name_Apple   12.988442\n",
       "13        brand_name_Asus    3.329414\n",
       "14  brand_name_BlackBerry    1.632982\n",
       "15      brand_name_Celkon    1.787416\n",
       "16     brand_name_Coolpad    1.467386\n",
       "17      brand_name_Gionee    1.948346\n",
       "18      brand_name_Google    1.323230\n",
       "19         brand_name_HTC    3.416193\n",
       "20       brand_name_Honor    3.344189\n",
       "21      brand_name_Huawei    5.984342\n",
       "22     brand_name_Infinix    1.281468\n",
       "23     brand_name_Karbonn    1.570803\n",
       "24          brand_name_LG    4.861065\n",
       "25        brand_name_Lava    1.709208\n",
       "26      brand_name_Lenovo    4.557298\n",
       "27       brand_name_Meizu    2.174071\n",
       "28    brand_name_Micromax    3.359960\n",
       "29   brand_name_Microsoft    1.873664\n",
       "30    brand_name_Motorola    3.259308\n",
       "31       brand_name_Nokia    3.708774\n",
       "32     brand_name_OnePlus    1.436462\n",
       "33        brand_name_Oppo    3.975271\n",
       "34      brand_name_Others    9.713652\n",
       "35   brand_name_Panasonic    2.106474\n",
       "36      brand_name_Realme    1.926855\n",
       "37     brand_name_Samsung    7.564873\n",
       "38        brand_name_Sony    2.939640\n",
       "39       brand_name_Spice    1.688244\n",
       "40        brand_name_Vivo    3.646472\n",
       "41        brand_name_XOLO    2.138587\n",
       "42      brand_name_Xiaomi    3.701779\n",
       "43         brand_name_ZTE    3.797559\n",
       "44              os_Others    1.904348\n",
       "45             os_Windows    1.626545\n",
       "46                 os_iOS   11.689262\n",
       "47                 4g_yes    2.447810\n",
       "48                 5g_yes    1.822181"
      ]
     },
     "execution_count": 229,
     "metadata": {},
     "output_type": "execute_result"
    },
    {
     "data": {
      "application/javascript": [
       "\n",
       "            setTimeout(function() {\n",
       "                var nbb_cell_id = 229;\n",
       "                var nbb_unformatted_code = \"checking_vif(x_train1)\";\n",
       "                var nbb_formatted_code = \"checking_vif(x_train1)\";\n",
       "                var nbb_cells = Jupyter.notebook.get_cells();\n",
       "                for (var i = 0; i < nbb_cells.length; ++i) {\n",
       "                    if (nbb_cells[i].input_prompt_number == nbb_cell_id) {\n",
       "                        if (nbb_cells[i].get_text() == nbb_unformatted_code) {\n",
       "                             nbb_cells[i].set_text(nbb_formatted_code);\n",
       "                        }\n",
       "                        break;\n",
       "                    }\n",
       "                }\n",
       "            }, 500);\n",
       "            "
      ],
      "text/plain": [
       "<IPython.core.display.Javascript object>"
      ]
     },
     "metadata": {},
     "output_type": "display_data"
    }
   ],
   "source": [
    "checking_vif(x_train1)"
   ]
  },
  {
   "cell_type": "markdown",
   "id": "7f142255",
   "metadata": {},
   "source": [
    "Release year/Age of model is the only one showing high VIF (Infinity for some reason)."
   ]
  },
  {
   "cell_type": "code",
   "execution_count": 230,
   "id": "b961ae86",
   "metadata": {},
   "outputs": [
    {
     "data": {
      "application/javascript": [
       "\n",
       "            setTimeout(function() {\n",
       "                var nbb_cell_id = 230;\n",
       "                var nbb_unformatted_code = \"def treating_multicollinearity(predictors, target, high_vif_columns):\\n    \\\"\\\"\\\"\\n    Checking the effect of dropping the columns showing high multicollinearity\\n    on model performance (adj. R-squared and RMSE)\\n\\n    predictors: independent variables\\n    target: dependent variable\\n    high_vif_columns: columns having high VIF\\n    \\\"\\\"\\\"\\n    # empty lists to store adj. R-squared and RMSE values\\n    adj_r2 = []\\n    rmse = []\\n\\n    # build ols models by dropping one of the high VIF columns at a time\\n    # store the adjusted R-squared and RMSE in the lists defined previously\\n    for cols in high_vif_columns:\\n        # defining the new train set\\n        train = predictors.loc[:, ~predictors.columns.str.startswith(cols)]\\n\\n        # create the model\\n        olsmodel = sm.OLS(target, train).fit()\\n\\n        # adding adj. R-squared and RMSE to the lists\\n        adj_r2.append(olsmodel.rsquared_adj)\\n        rmse.append(np.sqrt(olsmodel.mse_resid))\\n\\n    # creating a dataframe for the results\\n    temp = pd.DataFrame(\\n        {\\n            \\\"col\\\": high_vif_columns,\\n            \\\"Adj. R-squared after_dropping col\\\": adj_r2,\\n            \\\"RMSE after dropping col\\\": rmse,\\n        }\\n    ).sort_values(by=\\\"Adj. R-squared after_dropping col\\\", ascending=False)\\n    temp.reset_index(drop=True, inplace=True)\\n\\n    return temp\";\n",
       "                var nbb_formatted_code = \"def treating_multicollinearity(predictors, target, high_vif_columns):\\n    \\\"\\\"\\\"\\n    Checking the effect of dropping the columns showing high multicollinearity\\n    on model performance (adj. R-squared and RMSE)\\n\\n    predictors: independent variables\\n    target: dependent variable\\n    high_vif_columns: columns having high VIF\\n    \\\"\\\"\\\"\\n    # empty lists to store adj. R-squared and RMSE values\\n    adj_r2 = []\\n    rmse = []\\n\\n    # build ols models by dropping one of the high VIF columns at a time\\n    # store the adjusted R-squared and RMSE in the lists defined previously\\n    for cols in high_vif_columns:\\n        # defining the new train set\\n        train = predictors.loc[:, ~predictors.columns.str.startswith(cols)]\\n\\n        # create the model\\n        olsmodel = sm.OLS(target, train).fit()\\n\\n        # adding adj. R-squared and RMSE to the lists\\n        adj_r2.append(olsmodel.rsquared_adj)\\n        rmse.append(np.sqrt(olsmodel.mse_resid))\\n\\n    # creating a dataframe for the results\\n    temp = pd.DataFrame(\\n        {\\n            \\\"col\\\": high_vif_columns,\\n            \\\"Adj. R-squared after_dropping col\\\": adj_r2,\\n            \\\"RMSE after dropping col\\\": rmse,\\n        }\\n    ).sort_values(by=\\\"Adj. R-squared after_dropping col\\\", ascending=False)\\n    temp.reset_index(drop=True, inplace=True)\\n\\n    return temp\";\n",
       "                var nbb_cells = Jupyter.notebook.get_cells();\n",
       "                for (var i = 0; i < nbb_cells.length; ++i) {\n",
       "                    if (nbb_cells[i].input_prompt_number == nbb_cell_id) {\n",
       "                        if (nbb_cells[i].get_text() == nbb_unformatted_code) {\n",
       "                             nbb_cells[i].set_text(nbb_formatted_code);\n",
       "                        }\n",
       "                        break;\n",
       "                    }\n",
       "                }\n",
       "            }, 500);\n",
       "            "
      ],
      "text/plain": [
       "<IPython.core.display.Javascript object>"
      ]
     },
     "metadata": {},
     "output_type": "display_data"
    }
   ],
   "source": [
    "def treating_multicollinearity(predictors, target, high_vif_columns):\n",
    "    \"\"\"\n",
    "    Checking the effect of dropping the columns showing high multicollinearity\n",
    "    on model performance (adj. R-squared and RMSE)\n",
    "\n",
    "    predictors: independent variables\n",
    "    target: dependent variable\n",
    "    high_vif_columns: columns having high VIF\n",
    "    \"\"\"\n",
    "    # empty lists to store adj. R-squared and RMSE values\n",
    "    adj_r2 = []\n",
    "    rmse = []\n",
    "\n",
    "    # build ols models by dropping one of the high VIF columns at a time\n",
    "    # store the adjusted R-squared and RMSE in the lists defined previously\n",
    "    for cols in high_vif_columns:\n",
    "        # defining the new train set\n",
    "        train = predictors.loc[:, ~predictors.columns.str.startswith(cols)]\n",
    "\n",
    "        # create the model\n",
    "        olsmodel = sm.OLS(target, train).fit()\n",
    "\n",
    "        # adding adj. R-squared and RMSE to the lists\n",
    "        adj_r2.append(olsmodel.rsquared_adj)\n",
    "        rmse.append(np.sqrt(olsmodel.mse_resid))\n",
    "\n",
    "    # creating a dataframe for the results\n",
    "    temp = pd.DataFrame(\n",
    "        {\n",
    "            \"col\": high_vif_columns,\n",
    "            \"Adj. R-squared after_dropping col\": adj_r2,\n",
    "            \"RMSE after dropping col\": rmse,\n",
    "        }\n",
    "    ).sort_values(by=\"Adj. R-squared after_dropping col\", ascending=False)\n",
    "    temp.reset_index(drop=True, inplace=True)\n",
    "\n",
    "    return temp"
   ]
  },
  {
   "cell_type": "code",
   "execution_count": 233,
   "id": "2d1d5c78",
   "metadata": {},
   "outputs": [
    {
     "data": {
      "text/html": [
       "<div>\n",
       "<style scoped>\n",
       "    .dataframe tbody tr th:only-of-type {\n",
       "        vertical-align: middle;\n",
       "    }\n",
       "\n",
       "    .dataframe tbody tr th {\n",
       "        vertical-align: top;\n",
       "    }\n",
       "\n",
       "    .dataframe thead th {\n",
       "        text-align: right;\n",
       "    }\n",
       "</style>\n",
       "<table border=\"1\" class=\"dataframe\">\n",
       "  <thead>\n",
       "    <tr style=\"text-align: right;\">\n",
       "      <th></th>\n",
       "      <th>col</th>\n",
       "      <th>Adj. R-squared after_dropping col</th>\n",
       "      <th>RMSE after dropping col</th>\n",
       "    </tr>\n",
       "  </thead>\n",
       "  <tbody>\n",
       "    <tr>\n",
       "      <th>0</th>\n",
       "      <td>screen_size</td>\n",
       "      <td>0.841451</td>\n",
       "      <td>0.232463</td>\n",
       "    </tr>\n",
       "  </tbody>\n",
       "</table>\n",
       "</div>"
      ],
      "text/plain": [
       "           col  Adj. R-squared after_dropping col  RMSE after dropping col\n",
       "0  screen_size                           0.841451                 0.232463"
      ]
     },
     "execution_count": 233,
     "metadata": {},
     "output_type": "execute_result"
    },
    {
     "data": {
      "application/javascript": [
       "\n",
       "            setTimeout(function() {\n",
       "                var nbb_cell_id = 233;\n",
       "                var nbb_unformatted_code = \"col_list = [\\\"screen_size\\\"]\\n\\nres = treating_multicollinearity(x_train1, y_train, col_list)\\nres\";\n",
       "                var nbb_formatted_code = \"col_list = [\\\"screen_size\\\"]\\n\\nres = treating_multicollinearity(x_train1, y_train, col_list)\\nres\";\n",
       "                var nbb_cells = Jupyter.notebook.get_cells();\n",
       "                for (var i = 0; i < nbb_cells.length; ++i) {\n",
       "                    if (nbb_cells[i].input_prompt_number == nbb_cell_id) {\n",
       "                        if (nbb_cells[i].get_text() == nbb_unformatted_code) {\n",
       "                             nbb_cells[i].set_text(nbb_formatted_code);\n",
       "                        }\n",
       "                        break;\n",
       "                    }\n",
       "                }\n",
       "            }, 500);\n",
       "            "
      ],
      "text/plain": [
       "<IPython.core.display.Javascript object>"
      ]
     },
     "metadata": {},
     "output_type": "display_data"
    }
   ],
   "source": [
    "col_list = [\"screen_size\"]\n",
    "\n",
    "res = treating_multicollinearity(x_train1, y_train, col_list)\n",
    "res"
   ]
  },
  {
   "cell_type": "markdown",
   "id": "adecaaa5",
   "metadata": {},
   "source": [
    "RMSE dropping after removal, so it is okay to remove the scree size variable."
   ]
  },
  {
   "cell_type": "code",
   "execution_count": 245,
   "id": "2900afec",
   "metadata": {},
   "outputs": [
    {
     "name": "stdout",
     "output_type": "stream",
     "text": [
      "VIF after dropping  screen_size\n"
     ]
    },
    {
     "data": {
      "text/html": [
       "<div>\n",
       "<style scoped>\n",
       "    .dataframe tbody tr th:only-of-type {\n",
       "        vertical-align: middle;\n",
       "    }\n",
       "\n",
       "    .dataframe tbody tr th {\n",
       "        vertical-align: top;\n",
       "    }\n",
       "\n",
       "    .dataframe thead th {\n",
       "        text-align: right;\n",
       "    }\n",
       "</style>\n",
       "<table border=\"1\" class=\"dataframe\">\n",
       "  <thead>\n",
       "    <tr style=\"text-align: right;\">\n",
       "      <th></th>\n",
       "      <th>feature</th>\n",
       "      <th>VIF</th>\n",
       "    </tr>\n",
       "  </thead>\n",
       "  <tbody>\n",
       "    <tr>\n",
       "      <th>0</th>\n",
       "      <td>const</td>\n",
       "      <td>656.690970</td>\n",
       "    </tr>\n",
       "    <tr>\n",
       "      <th>1</th>\n",
       "      <td>main_camera_mp</td>\n",
       "      <td>2.096142</td>\n",
       "    </tr>\n",
       "    <tr>\n",
       "      <th>2</th>\n",
       "      <td>selfie_camera_mp</td>\n",
       "      <td>2.862726</td>\n",
       "    </tr>\n",
       "    <tr>\n",
       "      <th>3</th>\n",
       "      <td>ram</td>\n",
       "      <td>2.244027</td>\n",
       "    </tr>\n",
       "    <tr>\n",
       "      <th>4</th>\n",
       "      <td>battery</td>\n",
       "      <td>3.730165</td>\n",
       "    </tr>\n",
       "    <tr>\n",
       "      <th>5</th>\n",
       "      <td>days_used</td>\n",
       "      <td>2.656364</td>\n",
       "    </tr>\n",
       "    <tr>\n",
       "      <th>6</th>\n",
       "      <td>new_price_log</td>\n",
       "      <td>3.044263</td>\n",
       "    </tr>\n",
       "    <tr>\n",
       "      <th>7</th>\n",
       "      <td>new_int_memory</td>\n",
       "      <td>2.085006</td>\n",
       "    </tr>\n",
       "    <tr>\n",
       "      <th>8</th>\n",
       "      <td>new_weight</td>\n",
       "      <td>3.067594</td>\n",
       "    </tr>\n",
       "    <tr>\n",
       "      <th>9</th>\n",
       "      <td>age_of_model</td>\n",
       "      <td>4.754600</td>\n",
       "    </tr>\n",
       "    <tr>\n",
       "      <th>10</th>\n",
       "      <td>brand_name_Alcatel</td>\n",
       "      <td>3.406087</td>\n",
       "    </tr>\n",
       "    <tr>\n",
       "      <th>11</th>\n",
       "      <td>brand_name_Apple</td>\n",
       "      <td>12.984843</td>\n",
       "    </tr>\n",
       "    <tr>\n",
       "      <th>12</th>\n",
       "      <td>brand_name_Asus</td>\n",
       "      <td>3.325196</td>\n",
       "    </tr>\n",
       "    <tr>\n",
       "      <th>13</th>\n",
       "      <td>brand_name_BlackBerry</td>\n",
       "      <td>1.631144</td>\n",
       "    </tr>\n",
       "    <tr>\n",
       "      <th>14</th>\n",
       "      <td>brand_name_Celkon</td>\n",
       "      <td>1.784805</td>\n",
       "    </tr>\n",
       "    <tr>\n",
       "      <th>15</th>\n",
       "      <td>brand_name_Coolpad</td>\n",
       "      <td>1.466871</td>\n",
       "    </tr>\n",
       "    <tr>\n",
       "      <th>16</th>\n",
       "      <td>brand_name_Gionee</td>\n",
       "      <td>1.939734</td>\n",
       "    </tr>\n",
       "    <tr>\n",
       "      <th>17</th>\n",
       "      <td>brand_name_Google</td>\n",
       "      <td>1.320603</td>\n",
       "    </tr>\n",
       "    <tr>\n",
       "      <th>18</th>\n",
       "      <td>brand_name_HTC</td>\n",
       "      <td>3.401308</td>\n",
       "    </tr>\n",
       "    <tr>\n",
       "      <th>19</th>\n",
       "      <td>brand_name_Honor</td>\n",
       "      <td>3.344152</td>\n",
       "    </tr>\n",
       "    <tr>\n",
       "      <th>20</th>\n",
       "      <td>brand_name_Huawei</td>\n",
       "      <td>5.975924</td>\n",
       "    </tr>\n",
       "    <tr>\n",
       "      <th>21</th>\n",
       "      <td>brand_name_Infinix</td>\n",
       "      <td>1.281468</td>\n",
       "    </tr>\n",
       "    <tr>\n",
       "      <th>22</th>\n",
       "      <td>brand_name_Karbonn</td>\n",
       "      <td>1.570640</td>\n",
       "    </tr>\n",
       "    <tr>\n",
       "      <th>23</th>\n",
       "      <td>brand_name_LG</td>\n",
       "      <td>4.836729</td>\n",
       "    </tr>\n",
       "    <tr>\n",
       "      <th>24</th>\n",
       "      <td>brand_name_Lava</td>\n",
       "      <td>1.708171</td>\n",
       "    </tr>\n",
       "    <tr>\n",
       "      <th>25</th>\n",
       "      <td>brand_name_Lenovo</td>\n",
       "      <td>4.552548</td>\n",
       "    </tr>\n",
       "    <tr>\n",
       "      <th>26</th>\n",
       "      <td>brand_name_Meizu</td>\n",
       "      <td>2.170542</td>\n",
       "    </tr>\n",
       "    <tr>\n",
       "      <th>27</th>\n",
       "      <td>brand_name_Micromax</td>\n",
       "      <td>3.351351</td>\n",
       "    </tr>\n",
       "    <tr>\n",
       "      <th>28</th>\n",
       "      <td>brand_name_Microsoft</td>\n",
       "      <td>1.872242</td>\n",
       "    </tr>\n",
       "    <tr>\n",
       "      <th>29</th>\n",
       "      <td>brand_name_Motorola</td>\n",
       "      <td>3.246422</td>\n",
       "    </tr>\n",
       "    <tr>\n",
       "      <th>30</th>\n",
       "      <td>brand_name_Nokia</td>\n",
       "      <td>3.693010</td>\n",
       "    </tr>\n",
       "    <tr>\n",
       "      <th>31</th>\n",
       "      <td>brand_name_OnePlus</td>\n",
       "      <td>1.436462</td>\n",
       "    </tr>\n",
       "    <tr>\n",
       "      <th>32</th>\n",
       "      <td>brand_name_Oppo</td>\n",
       "      <td>3.967528</td>\n",
       "    </tr>\n",
       "    <tr>\n",
       "      <th>33</th>\n",
       "      <td>brand_name_Others</td>\n",
       "      <td>9.647706</td>\n",
       "    </tr>\n",
       "    <tr>\n",
       "      <th>34</th>\n",
       "      <td>brand_name_Panasonic</td>\n",
       "      <td>2.104981</td>\n",
       "    </tr>\n",
       "    <tr>\n",
       "      <th>35</th>\n",
       "      <td>brand_name_Realme</td>\n",
       "      <td>1.926278</td>\n",
       "    </tr>\n",
       "    <tr>\n",
       "      <th>36</th>\n",
       "      <td>brand_name_Samsung</td>\n",
       "      <td>7.528590</td>\n",
       "    </tr>\n",
       "    <tr>\n",
       "      <th>37</th>\n",
       "      <td>brand_name_Sony</td>\n",
       "      <td>2.925995</td>\n",
       "    </tr>\n",
       "    <tr>\n",
       "      <th>38</th>\n",
       "      <td>brand_name_Spice</td>\n",
       "      <td>1.680904</td>\n",
       "    </tr>\n",
       "    <tr>\n",
       "      <th>39</th>\n",
       "      <td>brand_name_Vivo</td>\n",
       "      <td>3.645976</td>\n",
       "    </tr>\n",
       "    <tr>\n",
       "      <th>40</th>\n",
       "      <td>brand_name_XOLO</td>\n",
       "      <td>2.137177</td>\n",
       "    </tr>\n",
       "    <tr>\n",
       "      <th>41</th>\n",
       "      <td>brand_name_Xiaomi</td>\n",
       "      <td>3.698373</td>\n",
       "    </tr>\n",
       "    <tr>\n",
       "      <th>42</th>\n",
       "      <td>brand_name_ZTE</td>\n",
       "      <td>3.785437</td>\n",
       "    </tr>\n",
       "    <tr>\n",
       "      <th>43</th>\n",
       "      <td>os_Others</td>\n",
       "      <td>1.640155</td>\n",
       "    </tr>\n",
       "    <tr>\n",
       "      <th>44</th>\n",
       "      <td>os_Windows</td>\n",
       "      <td>1.626360</td>\n",
       "    </tr>\n",
       "    <tr>\n",
       "      <th>45</th>\n",
       "      <td>os_iOS</td>\n",
       "      <td>11.681562</td>\n",
       "    </tr>\n",
       "    <tr>\n",
       "      <th>46</th>\n",
       "      <td>4g_yes</td>\n",
       "      <td>2.447802</td>\n",
       "    </tr>\n",
       "    <tr>\n",
       "      <th>47</th>\n",
       "      <td>5g_yes</td>\n",
       "      <td>1.820630</td>\n",
       "    </tr>\n",
       "  </tbody>\n",
       "</table>\n",
       "</div>"
      ],
      "text/plain": [
       "                  feature         VIF\n",
       "0                   const  656.690970\n",
       "1          main_camera_mp    2.096142\n",
       "2        selfie_camera_mp    2.862726\n",
       "3                     ram    2.244027\n",
       "4                 battery    3.730165\n",
       "5               days_used    2.656364\n",
       "6           new_price_log    3.044263\n",
       "7          new_int_memory    2.085006\n",
       "8              new_weight    3.067594\n",
       "9            age_of_model    4.754600\n",
       "10     brand_name_Alcatel    3.406087\n",
       "11       brand_name_Apple   12.984843\n",
       "12        brand_name_Asus    3.325196\n",
       "13  brand_name_BlackBerry    1.631144\n",
       "14      brand_name_Celkon    1.784805\n",
       "15     brand_name_Coolpad    1.466871\n",
       "16      brand_name_Gionee    1.939734\n",
       "17      brand_name_Google    1.320603\n",
       "18         brand_name_HTC    3.401308\n",
       "19       brand_name_Honor    3.344152\n",
       "20      brand_name_Huawei    5.975924\n",
       "21     brand_name_Infinix    1.281468\n",
       "22     brand_name_Karbonn    1.570640\n",
       "23          brand_name_LG    4.836729\n",
       "24        brand_name_Lava    1.708171\n",
       "25      brand_name_Lenovo    4.552548\n",
       "26       brand_name_Meizu    2.170542\n",
       "27    brand_name_Micromax    3.351351\n",
       "28   brand_name_Microsoft    1.872242\n",
       "29    brand_name_Motorola    3.246422\n",
       "30       brand_name_Nokia    3.693010\n",
       "31     brand_name_OnePlus    1.436462\n",
       "32        brand_name_Oppo    3.967528\n",
       "33      brand_name_Others    9.647706\n",
       "34   brand_name_Panasonic    2.104981\n",
       "35      brand_name_Realme    1.926278\n",
       "36     brand_name_Samsung    7.528590\n",
       "37        brand_name_Sony    2.925995\n",
       "38       brand_name_Spice    1.680904\n",
       "39        brand_name_Vivo    3.645976\n",
       "40        brand_name_XOLO    2.137177\n",
       "41      brand_name_Xiaomi    3.698373\n",
       "42         brand_name_ZTE    3.785437\n",
       "43              os_Others    1.640155\n",
       "44             os_Windows    1.626360\n",
       "45                 os_iOS   11.681562\n",
       "46                 4g_yes    2.447802\n",
       "47                 5g_yes    1.820630"
      ]
     },
     "execution_count": 245,
     "metadata": {},
     "output_type": "execute_result"
    },
    {
     "data": {
      "application/javascript": [
       "\n",
       "            setTimeout(function() {\n",
       "                var nbb_cell_id = 245;\n",
       "                var nbb_unformatted_code = \"col_to_drop = \\\"screen_size\\\"\\nx_train2 = x_train1.loc[:, ~x_train1.columns.str.startswith(col_to_drop)]\\nx_test2 = x_test1.loc[:, ~x_test1.columns.str.startswith(col_to_drop)]\\n\\n# Check VIF now\\nvif = checking_vif(x_train2)\\nprint(\\\"VIF after dropping \\\", col_to_drop)\\nvif\";\n",
       "                var nbb_formatted_code = \"col_to_drop = \\\"screen_size\\\"\\nx_train2 = x_train1.loc[:, ~x_train1.columns.str.startswith(col_to_drop)]\\nx_test2 = x_test1.loc[:, ~x_test1.columns.str.startswith(col_to_drop)]\\n\\n# Check VIF now\\nvif = checking_vif(x_train2)\\nprint(\\\"VIF after dropping \\\", col_to_drop)\\nvif\";\n",
       "                var nbb_cells = Jupyter.notebook.get_cells();\n",
       "                for (var i = 0; i < nbb_cells.length; ++i) {\n",
       "                    if (nbb_cells[i].input_prompt_number == nbb_cell_id) {\n",
       "                        if (nbb_cells[i].get_text() == nbb_unformatted_code) {\n",
       "                             nbb_cells[i].set_text(nbb_formatted_code);\n",
       "                        }\n",
       "                        break;\n",
       "                    }\n",
       "                }\n",
       "            }, 500);\n",
       "            "
      ],
      "text/plain": [
       "<IPython.core.display.Javascript object>"
      ]
     },
     "metadata": {},
     "output_type": "display_data"
    }
   ],
   "source": [
    "col_to_drop = \"screen_size\"\n",
    "x_train2 = x_train1.loc[:, ~x_train1.columns.str.startswith(col_to_drop)]\n",
    "x_test2 = x_test1.loc[:, ~x_test1.columns.str.startswith(col_to_drop)]\n",
    "\n",
    "# Check VIF now\n",
    "vif = checking_vif(x_train2)\n",
    "print(\"VIF after dropping \", col_to_drop)\n",
    "vif"
   ]
  },
  {
   "cell_type": "markdown",
   "id": "f9674fc9",
   "metadata": {},
   "source": [
    "All are less than 5 now! Let's model again!!"
   ]
  },
  {
   "cell_type": "code",
   "execution_count": 246,
   "id": "0c872ca2",
   "metadata": {},
   "outputs": [
    {
     "name": "stdout",
     "output_type": "stream",
     "text": [
      "                            OLS Regression Results                            \n",
      "==============================================================================\n",
      "Dep. Variable:         new_used_price   R-squared:                       0.845\n",
      "Model:                            OLS   Adj. R-squared:                  0.841\n",
      "Method:                 Least Squares   F-statistic:                     273.8\n",
      "Date:                Sat, 11 Dec 2021   Prob (F-statistic):               0.00\n",
      "Time:                        14:46:24   Log-Likelihood:                 121.13\n",
      "No. Observations:                2417   AIC:                            -146.3\n",
      "Df Residuals:                    2369   BIC:                             131.7\n",
      "Df Model:                          47                                         \n",
      "Covariance Type:            nonrobust                                         \n",
      "=========================================================================================\n",
      "                            coef    std err          t      P>|t|      [0.025      0.975]\n",
      "-----------------------------------------------------------------------------------------\n",
      "const                    -0.5686      0.121     -4.693      0.000      -0.806      -0.331\n",
      "main_camera_mp            0.0206      0.001     14.125      0.000       0.018       0.023\n",
      "selfie_camera_mp          0.0139      0.001     12.201      0.000       0.012       0.016\n",
      "ram                       0.0212      0.005      4.131      0.000       0.011       0.031\n",
      "battery               -6.981e-06   6.96e-06     -1.003      0.316   -2.06e-05    6.67e-06\n",
      "days_used              2.901e-05   3.09e-05      0.940      0.347   -3.15e-05    8.95e-05\n",
      "new_price_log             0.4335      0.012     35.746      0.000       0.410       0.457\n",
      "new_int_memory            0.0046      0.006      0.726      0.468      -0.008       0.017\n",
      "new_weight                0.4664      0.024     19.628      0.000       0.420       0.513\n",
      "age_of_model             -0.0265      0.004     -5.902      0.000      -0.035      -0.018\n",
      "brand_name_Alcatel        0.0181      0.048      0.380      0.704      -0.075       0.112\n",
      "brand_name_Apple          0.1245      0.147      0.848      0.397      -0.163       0.412\n",
      "brand_name_Asus           0.0005      0.048      0.010      0.992      -0.093       0.094\n",
      "brand_name_BlackBerry    -0.0750      0.070     -1.067      0.286      -0.213       0.063\n",
      "brand_name_Celkon        -0.0541      0.067     -0.813      0.416      -0.185       0.076\n",
      "brand_name_Coolpad        0.0419      0.073      0.574      0.566      -0.101       0.185\n",
      "brand_name_Gionee         0.0153      0.058      0.266      0.790      -0.098       0.128\n",
      "brand_name_Google        -0.0389      0.085     -0.459      0.646      -0.205       0.127\n",
      "brand_name_HTC           -0.0226      0.048     -0.470      0.639      -0.117       0.072\n",
      "brand_name_Honor          0.0307      0.049      0.624      0.533      -0.066       0.127\n",
      "brand_name_Huawei        -0.0115      0.044     -0.257      0.797      -0.099       0.076\n",
      "brand_name_Infinix        0.1314      0.093      1.410      0.159      -0.051       0.314\n",
      "brand_name_Karbonn        0.1258      0.067      1.874      0.061      -0.006       0.257\n",
      "brand_name_LG            -0.0239      0.045     -0.528      0.598      -0.113       0.065\n",
      "brand_name_Lava           0.0371      0.062      0.596      0.551      -0.085       0.159\n",
      "brand_name_Lenovo         0.0336      0.045      0.744      0.457      -0.055       0.122\n",
      "brand_name_Meizu          0.0025      0.056      0.045      0.964      -0.107       0.112\n",
      "brand_name_Micromax      -0.0387      0.048     -0.809      0.419      -0.132       0.055\n",
      "brand_name_Microsoft      0.0873      0.088      0.987      0.324      -0.086       0.261\n",
      "brand_name_Motorola      -0.0160      0.049     -0.323      0.747      -0.113       0.081\n",
      "brand_name_Nokia          0.0757      0.053      1.417      0.157      -0.029       0.181\n",
      "brand_name_OnePlus        0.1290      0.077      1.665      0.096      -0.023       0.281\n",
      "brand_name_Oppo           0.0148      0.048      0.309      0.757      -0.079       0.108\n",
      "brand_name_Others        -0.0332      0.042     -0.791      0.429      -0.116       0.049\n",
      "brand_name_Panasonic      0.0577      0.056      1.033      0.302      -0.052       0.167\n",
      "brand_name_Realme         0.0941      0.061      1.535      0.125      -0.026       0.214\n",
      "brand_name_Samsung       -0.0360      0.043     -0.833      0.405      -0.121       0.049\n",
      "brand_name_Sony          -0.0630      0.050     -1.250      0.211      -0.162       0.036\n",
      "brand_name_Spice         -0.0421      0.063     -0.666      0.505      -0.166       0.082\n",
      "brand_name_Vivo          -0.0093      0.048     -0.191      0.848      -0.104       0.086\n",
      "brand_name_XOLO           0.0144      0.055      0.263      0.793      -0.093       0.122\n",
      "brand_name_Xiaomi         0.0812      0.048      1.690      0.091      -0.013       0.175\n",
      "brand_name_ZTE           -0.0127      0.047     -0.268      0.789      -0.106       0.080\n",
      "os_Others                -0.0818      0.031     -2.650      0.008      -0.142      -0.021\n",
      "os_Windows               -0.0163      0.046     -0.358      0.721      -0.106       0.073\n",
      "os_iOS                   -0.2002      0.146     -1.372      0.170      -0.486       0.086\n",
      "4g_yes                    0.0435      0.016      2.749      0.006       0.012       0.074\n",
      "5g_yes                   -0.0459      0.032     -1.454      0.146      -0.108       0.016\n",
      "==============================================================================\n",
      "Omnibus:                      214.111   Durbin-Watson:                   1.908\n",
      "Prob(Omnibus):                  0.000   Jarque-Bera (JB):              416.793\n",
      "Skew:                          -0.588   Prob(JB):                     3.12e-91\n",
      "Kurtosis:                       4.660   Cond. No.                     1.79e+05\n",
      "==============================================================================\n",
      "\n",
      "Notes:\n",
      "[1] Standard Errors assume that the covariance matrix of the errors is correctly specified.\n",
      "[2] The condition number is large, 1.79e+05. This might indicate that there are\n",
      "strong multicollinearity or other numerical problems.\n"
     ]
    },
    {
     "data": {
      "application/javascript": [
       "\n",
       "            setTimeout(function() {\n",
       "                var nbb_cell_id = 246;\n",
       "                var nbb_unformatted_code = \"# adding constant to the train data\\nx_train2 = sm.add_constant(x_train2)\\n# adding constant to the test data\\nx_test2 = sm.add_constant(x_test2)\\n\\nolsmodel2 = sm.OLS(y_train, x_train2).fit()\\nprint(olsmodel2.summary())\";\n",
       "                var nbb_formatted_code = \"# adding constant to the train data\\nx_train2 = sm.add_constant(x_train2)\\n# adding constant to the test data\\nx_test2 = sm.add_constant(x_test2)\\n\\nolsmodel2 = sm.OLS(y_train, x_train2).fit()\\nprint(olsmodel2.summary())\";\n",
       "                var nbb_cells = Jupyter.notebook.get_cells();\n",
       "                for (var i = 0; i < nbb_cells.length; ++i) {\n",
       "                    if (nbb_cells[i].input_prompt_number == nbb_cell_id) {\n",
       "                        if (nbb_cells[i].get_text() == nbb_unformatted_code) {\n",
       "                             nbb_cells[i].set_text(nbb_formatted_code);\n",
       "                        }\n",
       "                        break;\n",
       "                    }\n",
       "                }\n",
       "            }, 500);\n",
       "            "
      ],
      "text/plain": [
       "<IPython.core.display.Javascript object>"
      ]
     },
     "metadata": {},
     "output_type": "display_data"
    }
   ],
   "source": [
    "# adding constant to the train data\n",
    "x_train2 = sm.add_constant(x_train2)\n",
    "# adding constant to the test data\n",
    "x_test2 = sm.add_constant(x_test2)\n",
    "\n",
    "olsmodel2 = sm.OLS(y_train, x_train2).fit()\n",
    "print(olsmodel2.summary())"
   ]
  },
  {
   "cell_type": "code",
   "execution_count": 271,
   "id": "7d3233cb",
   "metadata": {},
   "outputs": [
    {
     "name": "stdout",
     "output_type": "stream",
     "text": [
      "Training Performance\n",
      "\n",
      "        RMSE        MAE       MAPE\n",
      "0  24.947967  16.161193  18.438679\n",
      "############################################################\n",
      "Test Performance\n",
      "\n",
      "        RMSE        MAE       MAPE\n",
      "0  24.222395  16.550516  19.473597\n"
     ]
    },
    {
     "data": {
      "application/javascript": [
       "\n",
       "            setTimeout(function() {\n",
       "                var nbb_cell_id = 271;\n",
       "                var nbb_unformatted_code = \"# checking model performance on train set (seen 70% data)\\nprint(\\\"Training Performance\\\\n\\\")\\nolsmodel2_train_perf = model_performance_regression(olsmodel2, x_train2, y_train)\\nprint(olsmodel1_train_perf)\\nprint(\\\"##\\\" * 30)\\n\\n# checking model performance on test set (seen 30% data)\\nprint(\\\"Test Performance\\\\n\\\")\\nolsmodel2_test_perf = model_performance_regression(olsmodel2, x_test2, y_test)\\nprint(olsmodel2_test_perf)\";\n",
       "                var nbb_formatted_code = \"# checking model performance on train set (seen 70% data)\\nprint(\\\"Training Performance\\\\n\\\")\\nolsmodel2_train_perf = model_performance_regression(olsmodel2, x_train2, y_train)\\nprint(olsmodel1_train_perf)\\nprint(\\\"##\\\" * 30)\\n\\n# checking model performance on test set (seen 30% data)\\nprint(\\\"Test Performance\\\\n\\\")\\nolsmodel2_test_perf = model_performance_regression(olsmodel2, x_test2, y_test)\\nprint(olsmodel2_test_perf)\";\n",
       "                var nbb_cells = Jupyter.notebook.get_cells();\n",
       "                for (var i = 0; i < nbb_cells.length; ++i) {\n",
       "                    if (nbb_cells[i].input_prompt_number == nbb_cell_id) {\n",
       "                        if (nbb_cells[i].get_text() == nbb_unformatted_code) {\n",
       "                             nbb_cells[i].set_text(nbb_formatted_code);\n",
       "                        }\n",
       "                        break;\n",
       "                    }\n",
       "                }\n",
       "            }, 500);\n",
       "            "
      ],
      "text/plain": [
       "<IPython.core.display.Javascript object>"
      ]
     },
     "metadata": {},
     "output_type": "display_data"
    }
   ],
   "source": [
    "# checking model performance on train set (seen 70% data)\n",
    "print(\"Training Performance\\n\")\n",
    "olsmodel2_train_perf = model_performance_regression(olsmodel2, x_train2, y_train)\n",
    "print(olsmodel1_train_perf)\n",
    "print(\"##\" * 30)\n",
    "\n",
    "# checking model performance on test set (seen 30% data)\n",
    "print(\"Test Performance\\n\")\n",
    "olsmodel2_test_perf = model_performance_regression(olsmodel2, x_test2, y_test)\n",
    "print(olsmodel2_test_perf)"
   ]
  },
  {
   "cell_type": "markdown",
   "id": "cfcfd605",
   "metadata": {},
   "source": [
    "**Not much of an improvement, really (No improvement at all). It is better to use another model which is not so sensitive to outliers and normality, and which can give a better RMSE when using the 10-15% thumb rule.**"
   ]
  },
  {
   "cell_type": "markdown",
   "id": "18da584a",
   "metadata": {},
   "source": [
    "### 4.14). Your watch has ended, but only to realize that a new model is needed ;)"
   ]
  },
  {
   "cell_type": "code",
   "execution_count": null,
   "id": "3a81ba84",
   "metadata": {},
   "outputs": [],
   "source": []
  }
 ],
 "metadata": {
  "kernelspec": {
   "display_name": "Python 3 (ipykernel)",
   "language": "python",
   "name": "python3"
  },
  "language_info": {
   "codemirror_mode": {
    "name": "ipython",
    "version": 3
   },
   "file_extension": ".py",
   "mimetype": "text/x-python",
   "name": "python",
   "nbconvert_exporter": "python",
   "pygments_lexer": "ipython3",
   "version": "3.9.7"
  }
 },
 "nbformat": 4,
 "nbformat_minor": 5
}
